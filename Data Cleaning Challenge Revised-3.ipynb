{
 "cells": [
  {
   "cell_type": "code",
   "execution_count": 1,
   "metadata": {},
   "outputs": [],
   "source": [
    "## Import packages \n",
    "\n",
    "import pandas as pd\n",
    "import numpy as np\n",
    "import matplotlib.pyplot as plt\n",
    "import statistics\n",
    "import seaborn as sns\n",
    "%matplotlib inline\n",
    "\n",
    "## Load File\n",
    "\n",
    "df = pd.read_csv('https://raw.githubusercontent.com/borja876/Thinkful-DataScience-Borja/master/WELLCOME_APCspend2013_forThinkful.csv', encoding='latin1')"
   ]
  },
  {
   "cell_type": "code",
   "execution_count": 2,
   "metadata": {},
   "outputs": [],
   "source": [
    "## View DataFrame\n",
    "#df"
   ]
  },
  {
   "cell_type": "markdown",
   "metadata": {},
   "source": [
    "## Determine the five most common journals and the total articles for each"
   ]
  },
  {
   "cell_type": "code",
   "execution_count": 3,
   "metadata": {},
   "outputs": [
    {
     "name": "stdout",
     "output_type": "stream",
     "text": [
      "PLoS One                                                    92\n",
      "PLoS ONE                                                    62\n",
      "Journal of Biological Chemistry                             48\n",
      "Nucleic Acids Research                                      21\n",
      "Proceedings of the National Academy of Sciences             19\n",
      "Human Molecular Genetics                                    18\n",
      "PLoS Neglected Tropical Diseases                            18\n",
      "Nature Communications                                       17\n",
      "PLoS Pathogens                                              15\n",
      "PLoS Genetics                                               15\n",
      "Neuroimage                                                  15\n",
      "NeuroImage                                                  14\n",
      "PLOS ONE                                                    14\n",
      "Brain                                                       14\n",
      "BMC Public Health                                           14\n",
      "Movement Disorders                                          13\n",
      "Developmental Cell                                          12\n",
      "Biochemical Journal                                         12\n",
      "Journal of Neuroscience                                     12\n",
      "Journal of General Virology                                 11\n",
      "BMJ                                                         10\n",
      "PLOS One                                                    10\n",
      "Current Biology                                             10\n",
      "Neuron                                                       9\n",
      "Cell Reports                                                 9\n",
      "Development                                                  8\n",
      "Journal of Cell Science                                      8\n",
      "Journal of Structural Biology                                8\n",
      "Neurobiology of Aging                                        8\n",
      "Journal of Virology                                          8\n",
      "                                                            ..\n",
      "BMC Genome Biology                                           1\n",
      "Veterinary Microbiology                                      1\n",
      "Fungal Biology                                               1\n",
      "South Asian History and Culture                              1\n",
      "BMC  Public Health                                           1\n",
      "Cognitive Development                                        1\n",
      "Journal of Experimental Nanoscience                          1\n",
      "Reproductive Medicine and Biology                            1\n",
      "The International Journal of Biochemistry & Cell Biology     1\n",
      "European Journal of Health Law                               1\n",
      "Springer                                                     1\n",
      "Journal of Clinical Virology                                 1\n",
      "Chemistry -  European Journal                                1\n",
      "Parsitology                                                  1\n",
      "BMC Infectious diseases                                      1\n",
      "Social Psychiatry & Psychiatric Epidemiology                 1\n",
      "American Journal of Preventive Medicine                      1\n",
      "Frontiers in Molecular Neuroscience                          1\n",
      "The European Journal of Neuroscience                         1\n",
      "Frontiers in Invertebrate Physiology                         1\n",
      "Philos Trans R Soc London B Biol Sci                         1\n",
      "British Journal of Opthalmology                              1\n",
      "The Americal Journal of Human Genetics                       1\n",
      "BMJ QUALITY AND SAFETY                                       1\n",
      "Journal of paediatric Urology                                1\n",
      "Vascular Pharmacology                                        1\n",
      "Journal of Medical Virology                                  1\n",
      "Human Resources for Health                                   1\n",
      "BIOCHEM SOC TRANS                                            1\n",
      "Magnetic Resonance in Medicine                               1\n",
      "Name: Journal title, Length: 984, dtype: int64\n"
     ]
    }
   ],
   "source": [
    "## View counts of each Journal Entry (as typed)\n",
    "print(df['Journal title'].value_counts())"
   ]
  },
  {
   "cell_type": "code",
   "execution_count": 4,
   "metadata": {},
   "outputs": [],
   "source": [
    "#df.sort_values('Journal title')"
   ]
  },
  {
   "cell_type": "code",
   "execution_count": 5,
   "metadata": {},
   "outputs": [],
   "source": [
    "## Converting whole DataFrame to uppercase in the process\n",
    "df= df.applymap(lambda x: x.upper() if type(x) == str else x )"
   ]
  },
  {
   "cell_type": "code",
   "execution_count": 6,
   "metadata": {},
   "outputs": [],
   "source": [
    "## Standardize Entries\n",
    "\n",
    "df['Journal title'] = df['Journal title'].replace(['PLOSONE', 'PLOS ONE', 'PLOS 1', 'PLOS'], 'PLOS ONE') \n",
    "df['Journal title'] = df['Journal title'].replace(['ACTA D', 'ACTA CRYSTALLOGRAPHICA SECTION D', 'ACTA CRYSTALLOGRAPHY D', 'ACTA CRYSTALLOGRAPHICA, SECTION D', 'ACTA CRYSTALLOGRAPHICA SECTION D, BIOLOGICAL CRYSTALLOGRAPHY', 'ACTA CRYSTALLOGRAPHICA SECTION D,  BIOLOGICAL CRYSTALLOGRAPHY'], 'ACTA CRYSTALLOGRAPHICA SECTION D: BIOLOGICAL CRYSTALLOGRAPHY') \n",
    "df['Journal title'] = df['Journal title'].replace(['AMERICAN JNL EPIDEMIOLOGY'], 'AMERICAN JOURNAL OF EPIDEMIOLOGY') \n",
    "df['Journal title'] = df['Journal title'].replace(['AMERICAN JOURNAL OF MEDICAL GENETICS PART A'], 'AMERICAN JOURNAL OF MEDICAL GENETICS')\n",
    "df['Journal title'] = df['Journal title'].replace(['ANTIMICROBIAL AGENTS AND CHEMOTHERAPY', 'ANTIMICROBIAL AGFENTS AND CHEMOTHERAPY'], 'ANTIMICROBIAL AGENTS & CHEMOTHERAPY') \n",
    "df['Journal title'] = df['Journal title'].replace(['ANGEWANDE CHEMIE', 'ANGEWANDTE CHEMIE INTERNATIONAL EDITION','ANGEW CHEMS INT ED' ], 'ANGEWANDTE CHEMIE')\n",
    "df['Journal title'] = df['Journal title'].replace(['BEHAVIOUR RESEARCH AND THERAPY'], 'BEHAVIOR RESEARCH & THERAPY')\n",
    "df['Journal title'] = df['Journal title'].replace(['VIROLOGY JOURNAL'], 'VIROLOGY')"
   ]
  },
  {
   "cell_type": "code",
   "execution_count": 7,
   "metadata": {},
   "outputs": [
    {
     "name": "stdout",
     "output_type": "stream",
     "text": [
      "PLOS ONE                                                                                 210\n",
      "JOURNAL OF BIOLOGICAL CHEMISTRY                                                           53\n",
      "NEUROIMAGE                                                                                29\n",
      "PLOS PATHOGENS                                                                            24\n",
      "PLOS GENETICS                                                                             24\n",
      "NUCLEIC ACIDS RESEARCH                                                                    23\n",
      "PROCEEDINGS OF THE NATIONAL ACADEMY OF SCIENCES                                           20\n",
      "PLOS NEGLECTED TROPICAL DISEASES                                                          20\n",
      "HUMAN MOLECULAR GENETICS                                                                  19\n",
      "NATURE COMMUNICATIONS                                                                     19\n",
      "BMC PUBLIC HEALTH                                                                         14\n",
      "BRAIN                                                                                     14\n",
      "MOVEMENT DISORDERS                                                                        13\n",
      "JOURNAL OF NEUROSCIENCE                                                                   12\n",
      "BIOCHEMICAL JOURNAL                                                                       12\n",
      "DEVELOPMENTAL CELL                                                                        12\n",
      "CURRENT BIOLOGY                                                                           11\n",
      "JOURNAL OF GENERAL VIROLOGY                                                               11\n",
      "BMJ                                                                                       10\n",
      "CELL REPORTS                                                                               9\n",
      "PLOS COMPUTATIONAL BIOLOGY                                                                 9\n",
      "NEURON                                                                                     9\n",
      "BMJ OPEN                                                                                   9\n",
      "EUROPEAN JOURNAL OF IMMUNOLOGY                                                             8\n",
      "JOURNAL OF VIROLOGY                                                                        8\n",
      "MOLECULAR MICROBIOLOGY                                                                     8\n",
      "PROCEEDINGS OF THE ROYAL SOCIETY B: BIOLOGICAL SCIENCES                                    8\n",
      "JOURNAL OF CELL SCIENCE                                                                    8\n",
      "JOURNAL OF CLINICAL ENDOCRINOLOGY AND METABOLISM                                           8\n",
      "NEUROBIOLOGY OF AGING                                                                      8\n",
      "                                                                                        ... \n",
      "JOURNAL OF VIRAL HEPATITIS                                                                 1\n",
      "THE VET. JOURNAL                                                                           1\n",
      "MATH BIOSCI                                                                                1\n",
      "EMOTION                                                                                    1\n",
      "BMC BIOLOGY                                                                                1\n",
      "ORGANIC & BIOMOLECULAR CHEMISTRY                                                           1\n",
      "PNAS (PROCEEDINGS OF THE NATIONAL ACADEMY OF SCIENCES OF THE UNITED STATES OF AMERICA      1\n",
      "SGM OPEN OPTION                                                                            1\n",
      "BRITISH JOURNAL OF THE HISTORY OF SCIENCE                                                  1\n",
      "CEREBRAL CORTEX PRINT                                                                      1\n",
      "INTERNATIONAL JOURNAL FOR PARASITOLOGY                                                     1\n",
      "PUBLIC HEALTH ETHICS                                                                       1\n",
      "NEPHROLOGY DIALYSIS AND TRANSPLANTATION                                                    1\n",
      "AMERICAL JOURNAL OF PSYCHIATRY                                                             1\n",
      "CURR BIOL.                                                                                 1\n",
      "ASN NEURO                                                                                  1\n",
      "INTERNATIONAL JOURNAL OF EXPERIMENTAL PATHOLOGY                                            1\n",
      "TRIALS                                                                                     1\n",
      "PUBLIC LIBRARY OF SCIENCE ONE                                                              1\n",
      "ACADEMY OF NUTRITION AND DIETETICS                                                         1\n",
      "NEUROSCIENCE                                                                               1\n",
      "INTERNATIONAL JOURNAL OF APPLIED EARTH OBSERVATION AND GEOINFORMATION                      1\n",
      "FRONTIERS IN NEUROROBOTICS                                                                 1\n",
      "ACTA DIABETOLOGICA                                                                         1\n",
      "SOUTH ASIAN HISTORY AND CULTURE                                                            1\n",
      "BIOCHEM JOURNAL                                                                            1\n",
      "ECOLOGY LETTERS                                                                            1\n",
      "JOURNAL OF VISULAIZED EXPERMIMENTS                                                         1\n",
      "BMS GENOMICS                                                                               1\n",
      "AGEING & SOCIETY                                                                           1\n",
      "Name: Journal title, Length: 915, dtype: int64\n"
     ]
    }
   ],
   "source": [
    "## View final counts of each Journal Entry (as typed)\n",
    "print(df['Journal title'].value_counts())"
   ]
  },
  {
   "cell_type": "markdown",
   "metadata": {},
   "source": [
    "**The five most common jourals (and the respective number of articles) are: PLOS One (210), Journal of Biological Chemistry (53), Neuroimage (29), PLOS Pathogens (24), and PLOS Genetics (24).**"
   ]
  },
  {
   "cell_type": "markdown",
   "metadata": {},
   "source": [
    "## Next, calculate the mean, median, and standard deviation of the open-access cost per article for each journal"
   ]
  },
  {
   "cell_type": "code",
   "execution_count": 8,
   "metadata": {},
   "outputs": [],
   "source": [
    "### Cleaning Article Cost Entries "
   ]
  },
  {
   "cell_type": "code",
   "execution_count": 9,
   "metadata": {},
   "outputs": [],
   "source": [
    "## removed currency symbols from cost column\n",
    "\n",
    "## removed £\n",
    "df= df.apply(lambda x: x.str.replace('£', ''))\n",
    "\n",
    "## removed $\n",
    "df= df.apply(lambda x: x.str.replace('$', ''))"
   ]
  },
  {
   "cell_type": "code",
   "execution_count": 10,
   "metadata": {},
   "outputs": [],
   "source": [
    "## Replace 999999.00 value with mean\n",
    "\n",
    "df= df.apply(lambda x: x.str.replace('999999.00', '2015.04'))"
   ]
  },
  {
   "cell_type": "code",
   "execution_count": 11,
   "metadata": {},
   "outputs": [],
   "source": [
    "## Creating Separate DataFrames for each Journal Title\n",
    "\n",
    "plos_one_isolated=df.loc[lambda df: df['Journal title'] == 'PLOS ONE', :]\n",
    "\n",
    "jbc_isolated=df.loc[lambda df: df['Journal title'] == 'JOURNAL OF BIOLOGICAL CHEMISTRY', :]\n",
    "\n",
    "neuroimage_isolated=df.loc[lambda df: df['Journal title'] == 'NEUROIMAGE', :]\n",
    "\n",
    "plos_pathogens_isolated=df.loc[lambda df: df['Journal title'] == 'PLOS PATHOGENS', :]\n",
    "\n",
    "plos_genetics_isolated=df.loc[lambda df: df['Journal title'] == 'PLOS GENETICS', :]"
   ]
  },
  {
   "cell_type": "code",
   "execution_count": 12,
   "metadata": {},
   "outputs": [
    {
     "data": {
      "text/plain": [
       "count       210.000000\n",
       "mean       1891.382286\n",
       "std       13229.208992\n",
       "min         122.310000\n",
       "25%         853.320000\n",
       "50%         901.810000\n",
       "75%        1044.737500\n",
       "max      192645.000000\n",
       "Name: COST (£) charged to Wellcome (inc VAT when charged), dtype: float64"
      ]
     },
     "execution_count": 12,
     "metadata": {},
     "output_type": "execute_result"
    }
   ],
   "source": [
    "## Calculating Mean, Median, Standard deviation for PLOS One article Costs\n",
    "\n",
    "## Describe PLOS One costs\n",
    "plos_one_isolated['COST (£) charged to Wellcome (inc VAT when charged)'].apply(pd.to_numeric).describe()"
   ]
  },
  {
   "cell_type": "code",
   "execution_count": 13,
   "metadata": {},
   "outputs": [],
   "source": [
    "## Remove Extreme Costs \n",
    "\n",
    "r = plos_one_isolated['COST (£) charged to Wellcome (inc VAT when charged)'].apply(pd.to_numeric).quantile(0.99)\n",
    "\n",
    "plos_one_isolated_reduced = plos_one_isolated[plos_one_isolated['COST (£) charged to Wellcome (inc VAT when charged)'].apply(pd.to_numeric) < r]"
   ]
  },
  {
   "cell_type": "code",
   "execution_count": 14,
   "metadata": {},
   "outputs": [
    {
     "data": {
      "text/plain": [
       "count     201.000000\n",
       "mean      937.437612\n",
       "std       193.968371\n",
       "min       122.310000\n",
       "25%       852.430000\n",
       "50%       897.610000\n",
       "75%      1040.700000\n",
       "max      1785.360000\n",
       "Name: COST (£) charged to Wellcome (inc VAT when charged), dtype: float64"
      ]
     },
     "execution_count": 14,
     "metadata": {},
     "output_type": "execute_result"
    }
   ],
   "source": [
    "## Describe Article Costs\n",
    "\n",
    "plos_one_isolated_reduced['COST (£) charged to Wellcome (inc VAT when charged)'].apply(pd.to_numeric).describe()"
   ]
  },
  {
   "cell_type": "markdown",
   "metadata": {},
   "source": [
    "**PLOS One Article Cost Statistics <br>\n",
    "mean:      937.437612 <br>\n",
    "median:    897.610000 <br>\n",
    "std:       193.968371**"
   ]
  },
  {
   "cell_type": "code",
   "execution_count": 15,
   "metadata": {},
   "outputs": [
    {
     "data": {
      "text/plain": [
       "count      53.000000\n",
       "mean     1434.747925\n",
       "std       415.984485\n",
       "min       265.670000\n",
       "25%      1152.720000\n",
       "50%      1314.530000\n",
       "75%      1610.310000\n",
       "max      2501.070000\n",
       "Name: COST (£) charged to Wellcome (inc VAT when charged), dtype: float64"
      ]
     },
     "execution_count": 15,
     "metadata": {},
     "output_type": "execute_result"
    }
   ],
   "source": [
    "jbc_isolated['COST (£) charged to Wellcome (inc VAT when charged)'].apply(pd.to_numeric).describe()"
   ]
  },
  {
   "cell_type": "markdown",
   "metadata": {},
   "source": [
    "**Journal of Biological Chemistry Cost Statistics <br>\n",
    "mean:     1434.747925 <br>\n",
    "median:      1314.530000 <br>\n",
    "std:       415.984485**"
   ]
  },
  {
   "cell_type": "code",
   "execution_count": 16,
   "metadata": {},
   "outputs": [
    {
     "data": {
      "text/plain": [
       "count      29.000000\n",
       "mean     2215.168276\n",
       "std       266.653947\n",
       "min      1747.160000\n",
       "25%      2100.540000\n",
       "50%      2326.430000\n",
       "75%      2396.570000\n",
       "max      2503.340000\n",
       "Name: COST (£) charged to Wellcome (inc VAT when charged), dtype: float64"
      ]
     },
     "execution_count": 16,
     "metadata": {},
     "output_type": "execute_result"
    }
   ],
   "source": [
    "neuroimage_isolated['COST (£) charged to Wellcome (inc VAT when charged)'].apply(pd.to_numeric).describe()"
   ]
  },
  {
   "cell_type": "markdown",
   "metadata": {},
   "source": [
    "**Neuroimage Cost Statistics <br>\n",
    "mean:     2215.168276 <br>\n",
    "median:      2326.430000 <br>\n",
    "std:       266.653947**"
   ]
  },
  {
   "cell_type": "code",
   "execution_count": 17,
   "metadata": {},
   "outputs": [
    {
     "data": {
      "text/plain": [
       "count      24.000000\n",
       "mean     1609.714583\n",
       "std       198.700369\n",
       "min      1254.020000\n",
       "25%      1440.000000\n",
       "50%      1600.520000\n",
       "75%      1760.310000\n",
       "max      2015.040000\n",
       "Name: COST (£) charged to Wellcome (inc VAT when charged), dtype: float64"
      ]
     },
     "execution_count": 17,
     "metadata": {},
     "output_type": "execute_result"
    }
   ],
   "source": [
    "plos_pathogens_isolated['COST (£) charged to Wellcome (inc VAT when charged)'].apply(pd.to_numeric).describe()"
   ]
  },
  {
   "cell_type": "markdown",
   "metadata": {},
   "source": [
    "**PLOS Pathogens Cost Statistics <br>\n",
    "mean:     1609.714583 <br>\n",
    "median:      1600.520000 <br>\n",
    "std:       198.700369**"
   ]
  },
  {
   "cell_type": "code",
   "execution_count": 18,
   "metadata": {},
   "outputs": [
    {
     "data": {
      "text/plain": [
       "count      24.000000\n",
       "mean     1674.105000\n",
       "std       180.284357\n",
       "min      1394.050000\n",
       "25%      1484.862500\n",
       "50%      1718.390000\n",
       "75%      1778.225000\n",
       "max      2015.040000\n",
       "Name: COST (£) charged to Wellcome (inc VAT when charged), dtype: float64"
      ]
     },
     "execution_count": 18,
     "metadata": {},
     "output_type": "execute_result"
    }
   ],
   "source": [
    "plos_genetics_isolated['COST (£) charged to Wellcome (inc VAT when charged)'].apply(pd.to_numeric).describe()"
   ]
  },
  {
   "cell_type": "markdown",
   "metadata": {},
   "source": [
    "**PLOS Genetics Cost Statistics <br>\n",
    "mean:     1674.105000 <br>\n",
    "median:      1718.390000 <br>\n",
    "std:       180.284357**"
   ]
  },
  {
   "cell_type": "code",
   "execution_count": null,
   "metadata": {},
   "outputs": [],
   "source": []
  }
 ],
 "metadata": {
  "kernelspec": {
   "display_name": "Python 3",
   "language": "python",
   "name": "python3"
  },
  "language_info": {
   "codemirror_mode": {
    "name": "ipython",
    "version": 3
   },
   "file_extension": ".py",
   "mimetype": "text/x-python",
   "name": "python",
   "nbconvert_exporter": "python",
   "pygments_lexer": "ipython3",
   "version": "3.7.2"
  }
 },
 "nbformat": 4,
 "nbformat_minor": 2
}
