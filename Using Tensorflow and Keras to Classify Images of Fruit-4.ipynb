{
 "cells": [
  {
   "cell_type": "markdown",
   "metadata": {},
   "source": [
    "# Using Tensorflow and Keras to Classify Images of Fruit"
   ]
  },
  {
   "cell_type": "code",
   "execution_count": 1,
   "metadata": {},
   "outputs": [
    {
     "name": "stderr",
     "output_type": "stream",
     "text": [
      "Using TensorFlow backend.\n"
     ]
    }
   ],
   "source": [
    "from __future__ import print_function\n",
    "\n",
    "import matplotlib.pyplot as plt \n",
    "from PIL import Image \n",
    "import seaborn as sns\n",
    "import pandas as pd \n",
    "import numpy as np \n",
    "import os\n",
    "from keras.preprocessing import image\n",
    "import random\n",
    "from keras import utils\n",
    "from sklearn.metrics import confusion_matrix\n",
    "import itertools\n",
    "from sklearn.metrics import classification_report\n",
    "\n",
    "\n",
    "import keras\n",
    "from keras.models import Model\n",
    "from keras.layers import Input, Dense, TimeDistributed\n",
    "from keras.layers import LSTM\n",
    "from keras.utils.np_utils import to_categorical\n",
    "from keras.models import Sequential\n",
    "from keras.layers import Dense,Dropout,Flatten,Conv2D,MaxPool2D, ConvLSTM2D\n",
    "from keras.optimizers import RMSprop,Adam\n",
    "from keras.preprocessing.image import ImageDataGenerator\n",
    "from keras.callbacks import ReduceLROnPlateau\n",
    "from keras.models import Sequential\n",
    "from keras import backend as K\n",
    "\n",
    "import warnings\n",
    "warnings.filterwarnings(action=\"ignore\")\n",
    "\n",
    "%matplotlib inline "
   ]
  },
  {
   "cell_type": "markdown",
   "metadata": {},
   "source": [
    "## Data Preprocessing"
   ]
  },
  {
   "cell_type": "code",
   "execution_count": 2,
   "metadata": {},
   "outputs": [
    {
     "name": "stdout",
     "output_type": "stream",
     "text": [
      "['Cherry 1', 'Strawberry', 'Pomegranate', 'Guava', 'Apple Red 1', 'Mandarine', 'Raspberry', 'Banana Red', 'Grape White 4']\n"
     ]
    }
   ],
   "source": [
    "\n",
    "# Get the categories for each label\n",
    "\n",
    "data_path = '/Users/Amechi/Documents/Python Files/fruits/fruits-360/Training'\n",
    "CATEGORIES = []\n",
    "\n",
    "file_list = os.listdir(data_path)\n",
    "file_list.remove('.DS_Store')\n",
    "\n",
    "for filename in file_list:\n",
    "    CATEGORIES.append(filename)\n",
    "print(CATEGORIES)       "
   ]
  },
  {
   "cell_type": "markdown",
   "metadata": {},
   "source": [
    "### Training Data"
   ]
  },
  {
   "cell_type": "code",
   "execution_count": 3,
   "metadata": {},
   "outputs": [
    {
     "name": "stdout",
     "output_type": "stream",
     "text": [
      "CPU times: user 3.35 s, sys: 1.19 s, total: 4.55 s\n",
      "Wall time: 5.66 s\n"
     ]
    }
   ],
   "source": [
    "%%time\n",
    "\n",
    "# Loading Training data\n",
    "\n",
    "training_data=[]\n",
    "n_categories=[]\n",
    "\n",
    "def create_training_data():\n",
    "    for category in CATEGORIES:\n",
    "        folder_path = os.path.join(data_path, category).replace(\"\\\\\",\"/\")\n",
    "        class_num = CATEGORIES.index(category)\n",
    "        counter = 0\n",
    "        for i in os.listdir(folder_path):\n",
    "            try:\n",
    "                img_path = os.path.join(folder_path, i).replace(\"\\\\\",\"/\")\n",
    "                img = image.load_img(img_path, target_size=(224, 224))\n",
    "                img = image.img_to_array(img)\n",
    "                training_data.append([img, class_num])\n",
    "                counter += 1\n",
    "            except Exception as e:\n",
    "                pass\n",
    "        n_categories.append(counter)\n",
    "create_training_data()"
   ]
  },
  {
   "cell_type": "code",
   "execution_count": 4,
   "metadata": {},
   "outputs": [
    {
     "data": {
      "image/png": "[encoded data removed]",
      "text/plain": [
       "<Figure size 720x720 with 1 Axes>"
      ]
     },
     "metadata": {
      "needs_background": "light"
     },
     "output_type": "display_data"
    }
   ],
   "source": [
    "# Visualizing Fruit Frequencies of training data\n",
    "\n",
    "plt.figure(figsize=(10,10))\n",
    "plt.bar(CATEGORIES, n_categories)\n",
    "plt.xticks(CATEGORIES, rotation=45)\n",
    "plt.show()"
   ]
  },
  {
   "cell_type": "code",
   "execution_count": 5,
   "metadata": {
    "scrolled": true
   },
   "outputs": [
    {
     "name": "stdout",
     "output_type": "stream",
     "text": [
      "CPU times: user 935 ms, sys: 689 ms, total: 1.62 s\n",
      "Wall time: 1.58 s\n"
     ]
    }
   ],
   "source": [
    "%%time\n",
    "# Preparing training data for CNN\n",
    "\n",
    "random.shuffle(training_data)\n",
    "\n",
    "X_train = []\n",
    "Y_train = []\n",
    "for img, class_num in training_data:\n",
    "    X_train.append(img)\n",
    "    Y_train.append(class_num)\n",
    "\n",
    "X_train = np.array(X_train).reshape(-1, 224, 224, 3)\n",
    "Y_train = np.array(Y_train)\n",
    "X_train.shape"
   ]
  },
  {
   "cell_type": "markdown",
   "metadata": {},
   "source": [
    "### Testing Data"
   ]
  },
  {
   "cell_type": "code",
   "execution_count": 6,
   "metadata": {},
   "outputs": [],
   "source": [
    "# Loading Test data\n",
    "\n",
    "testing_data = []\n",
    "n_test_categories = []\n",
    "test_path = '/Users/Amechi/Documents/Python Files/fruits/fruits-360/Test'\n",
    "test_CATEGORIES = []\n",
    "\n",
    "test_list = os.listdir(test_path)\n",
    "test_list.remove('.DS_Store')\n",
    "\n",
    "for filename in test_list:\n",
    "    test_CATEGORIES.append(filename)      \n",
    "\n",
    "def create_test_data():\n",
    "    for category in test_CATEGORIES:\n",
    "        folder_path = os.path.join(test_path, category).replace(\"\\\\\",\"/\")\n",
    "        class_num = test_CATEGORIES.index(category)\n",
    "        counter = 0\n",
    "        for i in os.listdir(folder_path):\n",
    "            try:\n",
    "                img_path = os.path.join(folder_path, i).replace(\"\\\\\",\"/\")\n",
    "                img = image.load_img(img_path, target_size=(224, 224))\n",
    "                img = image.img_to_array(img)\n",
    "                testing_data.append([img, class_num])\n",
    "                counter += 1\n",
    "            except Exception as e:\n",
    "                pass\n",
    "        n_test_categories.append(counter)\n",
    "create_test_data()\n"
   ]
  },
  {
   "cell_type": "code",
   "execution_count": 7,
   "metadata": {},
   "outputs": [
    {
     "data": {
      "image/png": "[encoded data removed]",
      "text/plain": [
       "<Figure size 720x720 with 1 Axes>"
      ]
     },
     "metadata": {
      "needs_background": "light"
     },
     "output_type": "display_data"
    }
   ],
   "source": [
    "# Visualizing Fruit Frequencies of testing data\n",
    "\n",
    "plt.figure(figsize=(10,10))\n",
    "plt.bar(test_CATEGORIES, n_test_categories)\n",
    "plt.xticks(test_CATEGORIES, rotation=45)\n",
    "plt.show()"
   ]
  },
  {
   "cell_type": "code",
   "execution_count": 8,
   "metadata": {},
   "outputs": [
    {
     "data": {
      "text/plain": [
       "(1478, 224, 224, 3)"
      ]
     },
     "execution_count": 8,
     "metadata": {},
     "output_type": "execute_result"
    }
   ],
   "source": [
    "# Prepare test data\n",
    "\n",
    "random.shuffle(testing_data)\n",
    "\n",
    "X_test = []\n",
    "Y_test = []\n",
    "for img, class_num in testing_data:\n",
    "    X_test.append(img)\n",
    "    Y_test.append(class_num)\n",
    "\n",
    "X_test = np.array(X_test).reshape(-1, 224, 224, 3)\n",
    "X_test.shape"
   ]
  },
  {
   "cell_type": "code",
   "execution_count": 9,
   "metadata": {},
   "outputs": [],
   "source": [
    "# Storing Outcome variables Without Dummies\n",
    "\n",
    "Y_train_2,Y_test_2 = Y_train,Y_test"
   ]
  },
  {
   "cell_type": "code",
   "execution_count": 10,
   "metadata": {},
   "outputs": [],
   "source": [
    "# Preparing Outcome Variables\n",
    "Y_train = utils.to_categorical(Y_train, num_classes=len(n_categories))\n",
    "Y_test = utils.to_categorical(Y_test, num_classes=len(n_test_categories))\n",
    "\n",
    "# Normalizing Data\n",
    "X_train_ = X_train/255\n",
    "X_test_ = X_test/255\n"
   ]
  },
  {
   "cell_type": "code",
   "execution_count": 11,
   "metadata": {},
   "outputs": [],
   "source": [
    "x_train,y_train = X_train_ , Y_train\n",
    "x_val,y_val = X_test_ , Y_test\n",
    "x_test,y_test = x_val,y_val"
   ]
  },
  {
   "cell_type": "markdown",
   "metadata": {},
   "source": [
    "## Modeling the Data"
   ]
  },
  {
   "cell_type": "markdown",
   "metadata": {},
   "source": [
    "### Control - 10 Epochs, Image Augmentation"
   ]
  },
  {
   "cell_type": "code",
   "execution_count": 12,
   "metadata": {
    "scrolled": false
   },
   "outputs": [
    {
     "name": "stderr",
     "output_type": "stream",
     "text": [
      "WARNING: Logging before flag parsing goes to stderr.\n",
      "W0829 11:52:04.377018 4497253824 deprecation_wrapper.py:119] From /usr/local/lib/python3.7/site-packages/keras/backend/tensorflow_backend.py:74: The name tf.get_default_graph is deprecated. Please use tf.compat.v1.get_default_graph instead.\n",
      "\n",
      "W0829 11:52:04.391973 4497253824 deprecation_wrapper.py:119] From /usr/local/lib/python3.7/site-packages/keras/backend/tensorflow_backend.py:517: The name tf.placeholder is deprecated. Please use tf.compat.v1.placeholder instead.\n",
      "\n",
      "W0829 11:52:04.394870 4497253824 deprecation_wrapper.py:119] From /usr/local/lib/python3.7/site-packages/keras/backend/tensorflow_backend.py:4138: The name tf.random_uniform is deprecated. Please use tf.random.uniform instead.\n",
      "\n",
      "W0829 11:52:04.409895 4497253824 deprecation_wrapper.py:119] From /usr/local/lib/python3.7/site-packages/keras/backend/tensorflow_backend.py:3976: The name tf.nn.max_pool is deprecated. Please use tf.nn.max_pool2d instead.\n",
      "\n",
      "W0829 11:52:04.412197 4497253824 deprecation_wrapper.py:119] From /usr/local/lib/python3.7/site-packages/keras/backend/tensorflow_backend.py:133: The name tf.placeholder_with_default is deprecated. Please use tf.compat.v1.placeholder_with_default instead.\n",
      "\n",
      "W0829 11:52:04.421602 4497253824 deprecation.py:506] From /usr/local/lib/python3.7/site-packages/keras/backend/tensorflow_backend.py:3445: calling dropout (from tensorflow.python.ops.nn_ops) with keep_prob is deprecated and will be removed in a future version.\n",
      "Instructions for updating:\n",
      "Please use `rate` instead of `keep_prob`. Rate should be set to `rate = 1 - keep_prob`.\n",
      "W0829 11:52:04.549561 4497253824 deprecation_wrapper.py:119] From /usr/local/lib/python3.7/site-packages/keras/optimizers.py:790: The name tf.train.Optimizer is deprecated. Please use tf.compat.v1.train.Optimizer instead.\n",
      "\n",
      "W0829 11:52:04.557857 4497253824 deprecation_wrapper.py:119] From /usr/local/lib/python3.7/site-packages/keras/backend/tensorflow_backend.py:3295: The name tf.log is deprecated. Please use tf.math.log instead.\n",
      "\n"
     ]
    }
   ],
   "source": [
    "\n",
    "## Building the Model\n",
    "\n",
    "model=Sequential()\n",
    "model.add(Conv2D(filters=8,kernel_size=(5,5),padding=\"Same\",activation=\"relu\",input_shape=(224,224,3)))\n",
    "model.add(MaxPool2D(pool_size=(2,2)))\n",
    "model.add(Dropout(0.25))\n",
    "\n",
    "model.add(Conv2D(filters=16,kernel_size=(4,4),padding=\"Same\",activation=\"relu\"))\n",
    "model.add(MaxPool2D(pool_size=(2,2),strides=(2,2)))\n",
    "model.add(Dropout(0.25))\n",
    "\n",
    "model.add(Conv2D(filters=32,kernel_size=(4,4),padding=\"Same\",activation=\"relu\"))\n",
    "model.add(MaxPool2D(pool_size=(2,2),strides=(2,2)))\n",
    "model.add(Dropout(0.25))\n",
    "model.add(Flatten())\n",
    "model.add(Dense(512,activation=\"relu\"))\n",
    "model.add(Dropout(0.5))\n",
    "model.add(Dense(9,activation=\"softmax\"))\n",
    "\n",
    "# optimization\n",
    "optimizer=Adam(lr=0.001,beta_1=0.9,beta_2=0.999)\n",
    "\n",
    "# compiling the model\n",
    "model.compile(optimizer=optimizer,loss=\"categorical_crossentropy\",metrics=[\"accuracy\"])\n",
    "\n",
    "epochs=10\n",
    "batch_size=36"
   ]
  },
  {
   "cell_type": "code",
   "execution_count": 13,
   "metadata": {
    "scrolled": false
   },
   "outputs": [
    {
     "name": "stderr",
     "output_type": "stream",
     "text": [
      "W0829 11:52:12.012701 4497253824 deprecation.py:323] From /usr/local/lib/python3.7/site-packages/tensorflow/python/ops/math_grad.py:1250: add_dispatch_support.<locals>.wrapper (from tensorflow.python.ops.array_ops) is deprecated and will be removed in a future version.\n",
      "Instructions for updating:\n",
      "Use tf.where in 2.0, which has the same broadcast rule as np.where\n"
     ]
    },
    {
     "name": "stdout",
     "output_type": "stream",
     "text": [
      "Epoch 1/10\n",
      "122/122 [==============================] - 129s 1s/step - loss: 2.2236 - acc: 0.2935 - val_loss: 1.0875 - val_acc: 0.6211\n",
      "Epoch 2/10\n",
      "122/122 [==============================] - 149s 1s/step - loss: 0.9709 - acc: 0.6199 - val_loss: 0.4615 - val_acc: 0.8390\n",
      "Epoch 3/10\n",
      "122/122 [==============================] - 134s 1s/step - loss: 0.4461 - acc: 0.8253 - val_loss: 0.2564 - val_acc: 0.8877\n",
      "Epoch 4/10\n",
      "122/122 [==============================] - 129s 1s/step - loss: 0.4762 - acc: 0.8351 - val_loss: 0.4734 - val_acc: 0.8058\n",
      "Epoch 5/10\n",
      "122/122 [==============================] - 129s 1s/step - loss: 0.3555 - acc: 0.8718 - val_loss: 0.2035 - val_acc: 0.9263\n",
      "Epoch 6/10\n",
      "122/122 [==============================] - 128s 1s/step - loss: 0.2973 - acc: 0.8937 - val_loss: 0.1704 - val_acc: 0.9438\n",
      "Epoch 7/10\n",
      "122/122 [==============================] - 127s 1s/step - loss: 0.3393 - acc: 0.8871 - val_loss: 0.1334 - val_acc: 0.9540\n",
      "Epoch 8/10\n",
      "122/122 [==============================] - 128s 1s/step - loss: 0.2050 - acc: 0.9260 - val_loss: 0.1426 - val_acc: 0.9405\n",
      "Epoch 9/10\n",
      "122/122 [==============================] - 128s 1s/step - loss: 0.2231 - acc: 0.9194 - val_loss: 0.1427 - val_acc: 0.9296\n",
      "Epoch 10/10\n",
      "122/122 [==============================] - 130s 1s/step - loss: 0.2685 - acc: 0.9052 - val_loss: 0.1779 - val_acc: 0.9337\n",
      "CPU times: user 1h 29min 16s, sys: 17min 16s, total: 1h 46min 32s\n",
      "Wall time: 21min 55s\n"
     ]
    }
   ],
   "source": [
    "%%time\n",
    "\n",
    "# Adding Variations of original photos to prevent overfiting\n",
    "\n",
    "datagen=ImageDataGenerator(featurewise_center=False, \n",
    "                           samplewise_center=False,  \n",
    "                           featurewise_std_normalization=False, \n",
    "                           samplewise_std_normalization=False,  \n",
    "                           zca_whitening=False,  \n",
    "                           rotation_range=0.5,    \n",
    "                           zoom_range=0.5,        \n",
    "                           width_shift_range=0.5, \n",
    "                           height_shift_range=0.5,\n",
    "                           horizontal_flip=False,  \n",
    "                           vertical_flip=False,\n",
    "                           )\n",
    "datagen.fit(x_train)\n",
    "\n",
    "#model fitting\n",
    "history=model.fit_generator(datagen.flow(x_train,y_train,batch_size=batch_size),epochs=epochs,\n",
    "                            validation_data=(x_val,y_val),steps_per_epoch=x_train.shape[0]//batch_size\n",
    "                           )"
   ]
  },
  {
   "cell_type": "code",
   "execution_count": 14,
   "metadata": {
    "scrolled": true
   },
   "outputs": [
    {
     "name": "stdout",
     "output_type": "stream",
     "text": [
      "              precision    recall  f1-score   support\n",
      "\n",
      "           0       1.00      1.00      1.00       164\n",
      "           1       1.00      0.60      0.75       164\n",
      "           2       0.67      0.80      0.73       164\n",
      "           3       1.00      1.00      1.00       166\n",
      "           4       0.83      1.00      0.91       164\n",
      "           5       1.00      1.00      1.00       166\n",
      "           6       1.00      1.00      1.00       166\n",
      "           7       1.00      1.00      1.00       166\n",
      "           8       1.00      1.00      1.00       158\n",
      "\n",
      "   micro avg       0.93      0.93      0.93      1478\n",
      "   macro avg       0.94      0.93      0.93      1478\n",
      "weighted avg       0.94      0.93      0.93      1478\n",
      "\n"
     ]
    }
   ],
   "source": [
    "## Model Evaluation\n",
    "\n",
    "pred =  model.predict_classes(x_val)\n",
    "print(classification_report(Y_test_2, pred))"
   ]
  },
  {
   "cell_type": "code",
   "execution_count": 15,
   "metadata": {
    "scrolled": true
   },
   "outputs": [
    {
     "data": {
      "image/png": "[encoded data removed]",
      "text/plain": [
       "<Figure size 432x288 with 1 Axes>"
      ]
     },
     "metadata": {
      "needs_background": "light"
     },
     "output_type": "display_data"
    }
   ],
   "source": [
    "## Visualizing Model Accuracy\n",
    "\n",
    "plt.plot(history.history[\"val_acc\"],color=\"r\",label=\"val_acc\")\n",
    "plt.title(\"Accuracy Graph\")\n",
    "plt.xlabel(\"number of epochs\")\n",
    "plt.ylabel(\"accuracy\")\n",
    "plt.legend()\n",
    "plt.grid()\n",
    "plt.show()"
   ]
  },
  {
   "cell_type": "markdown",
   "metadata": {},
   "source": [
    "Accuracy generally increased as the number of epochs increased."
   ]
  },
  {
   "cell_type": "markdown",
   "metadata": {},
   "source": [
    "### 10 Epochs, Reduced Image Augmentation"
   ]
  },
  {
   "cell_type": "code",
   "execution_count": 16,
   "metadata": {},
   "outputs": [],
   "source": [
    "## Building the Model\n",
    "\n",
    "model=Sequential()\n",
    "model.add(Conv2D(filters=8,kernel_size=(5,5),padding=\"Same\",activation=\"relu\",input_shape=(224,224,3)))\n",
    "model.add(MaxPool2D(pool_size=(2,2)))\n",
    "model.add(Dropout(0.25))\n",
    "\n",
    "model.add(Conv2D(filters=16,kernel_size=(4,4),padding=\"Same\",activation=\"relu\"))\n",
    "model.add(MaxPool2D(pool_size=(2,2),strides=(2,2)))\n",
    "model.add(Dropout(0.25))\n",
    "\n",
    "model.add(Conv2D(filters=32,kernel_size=(4,4),padding=\"Same\",activation=\"relu\"))\n",
    "model.add(MaxPool2D(pool_size=(2,2),strides=(2,2)))\n",
    "model.add(Dropout(0.25))\n",
    "model.add(Flatten())\n",
    "model.add(Dense(512,activation=\"relu\"))\n",
    "model.add(Dropout(0.5))\n",
    "model.add(Dense(9,activation=\"softmax\"))\n",
    "\n",
    "# optimization\n",
    "optimizer=Adam(lr=0.001,beta_1=0.9,beta_2=0.999)\n",
    "\n",
    "# compiling the model\n",
    "model.compile(optimizer=optimizer,loss=\"categorical_crossentropy\",metrics=[\"accuracy\"])\n",
    "\n",
    "epochs=10\n",
    "batch_size=36"
   ]
  },
  {
   "cell_type": "code",
   "execution_count": 17,
   "metadata": {},
   "outputs": [
    {
     "name": "stdout",
     "output_type": "stream",
     "text": [
      "Epoch 1/10\n",
      "122/122 [==============================] - 107s 877ms/step - loss: 0.7313 - acc: 0.7803 - val_loss: 0.1112 - val_acc: 0.9553\n",
      "Epoch 2/10\n",
      "122/122 [==============================] - 113s 925ms/step - loss: 0.0374 - acc: 0.9882 - val_loss: 0.0767 - val_acc: 0.9716\n",
      "Epoch 3/10\n",
      "122/122 [==============================] - 113s 925ms/step - loss: 0.0222 - acc: 0.9927 - val_loss: 0.0291 - val_acc: 0.9926\n",
      "Epoch 4/10\n",
      "122/122 [==============================] - 113s 930ms/step - loss: 0.0326 - acc: 0.9909 - val_loss: 0.1567 - val_acc: 0.9547\n",
      "Epoch 5/10\n",
      "122/122 [==============================] - 116s 949ms/step - loss: 0.0138 - acc: 0.9957 - val_loss: 0.0150 - val_acc: 1.0000\n",
      "Epoch 6/10\n",
      "122/122 [==============================] - 136s 1s/step - loss: 0.0047 - acc: 0.9991 - val_loss: 0.0358 - val_acc: 0.9831\n",
      "Epoch 7/10\n",
      "122/122 [==============================] - 119s 979ms/step - loss: 0.0094 - acc: 0.9966 - val_loss: 0.0631 - val_acc: 0.9723\n",
      "Epoch 8/10\n",
      "122/122 [==============================] - 114s 931ms/step - loss: 0.0022 - acc: 0.9993 - val_loss: 0.0309 - val_acc: 0.9851\n",
      "Epoch 9/10\n",
      "122/122 [==============================] - 116s 948ms/step - loss: 4.9902e-04 - acc: 1.0000 - val_loss: 0.0147 - val_acc: 0.9986\n",
      "Epoch 10/10\n",
      "122/122 [==============================] - 115s 945ms/step - loss: 1.5646e-04 - acc: 1.0000 - val_loss: 0.0104 - val_acc: 1.0000\n",
      "CPU times: user 1h 23min 44s, sys: 17min 2s, total: 1h 40min 47s\n",
      "Wall time: 19min 25s\n"
     ]
    }
   ],
   "source": [
    "%%time\n",
    "\n",
    "# Adding Variations of Original photos to prevent overfiting\n",
    "\n",
    "datagen=ImageDataGenerator(featurewise_center=False, \n",
    "                           samplewise_center=False,  \n",
    "                           featurewise_std_normalization=False, \n",
    "                           samplewise_std_normalization=False,  \n",
    "                           zca_whitening=False,  \n",
    "                           rotation_range=0.01,    \n",
    "                           zoom_range=0.01,        \n",
    "                           width_shift_range=0.01, \n",
    "                           height_shift_range=0.01,\n",
    "                           horizontal_flip=False,  \n",
    "                           vertical_flip=False,\n",
    "                           )\n",
    "datagen.fit(x_train)\n",
    "\n",
    "# model fitting\n",
    "history=model.fit_generator(datagen.flow(x_train,y_train,batch_size=batch_size),epochs=epochs,\n",
    "                            validation_data=(x_val,y_val),steps_per_epoch=x_train.shape[0]//batch_size\n",
    "                           )"
   ]
  },
  {
   "cell_type": "code",
   "execution_count": 18,
   "metadata": {
    "scrolled": true
   },
   "outputs": [
    {
     "name": "stdout",
     "output_type": "stream",
     "text": [
      "              precision    recall  f1-score   support\n",
      "\n",
      "           0       1.00      1.00      1.00       164\n",
      "           1       1.00      1.00      1.00       164\n",
      "           2       1.00      1.00      1.00       164\n",
      "           3       1.00      1.00      1.00       166\n",
      "           4       1.00      1.00      1.00       164\n",
      "           5       1.00      1.00      1.00       166\n",
      "           6       1.00      1.00      1.00       166\n",
      "           7       1.00      1.00      1.00       166\n",
      "           8       1.00      1.00      1.00       158\n",
      "\n",
      "   micro avg       1.00      1.00      1.00      1478\n",
      "   macro avg       1.00      1.00      1.00      1478\n",
      "weighted avg       1.00      1.00      1.00      1478\n",
      "\n"
     ]
    }
   ],
   "source": [
    "# Model Evaluation\n",
    "\n",
    "pred =  model.predict_classes(x_val)\n",
    "print(classification_report(Y_test_2, pred))"
   ]
  },
  {
   "cell_type": "code",
   "execution_count": 19,
   "metadata": {
    "scrolled": true
   },
   "outputs": [
    {
     "data": {
      "image/png": "[encoded data removed]",
      "text/plain": [
       "<Figure size 432x288 with 1 Axes>"
      ]
     },
     "metadata": {
      "needs_background": "light"
     },
     "output_type": "display_data"
    }
   ],
   "source": [
    "## Visualizing Model Accuracy\n",
    "\n",
    "plt.plot(history.history[\"val_acc\"],color=\"r\",label=\"val_acc\")\n",
    "plt.title(\"Accuracy Graph\")\n",
    "plt.xlabel(\"number of epochs\")\n",
    "plt.ylabel(\"accuracy\")\n",
    "plt.legend()\n",
    "plt.grid()\n",
    "plt.show()"
   ]
  },
  {
   "cell_type": "markdown",
   "metadata": {},
   "source": [
    "Reducing the image augmentation actually resulted in higher accuracy scores. The increased risk of overfitting may become more evident with larger datasets. However, this model is the most preferable for classifying the fruit because of the extremely high accuracy."
   ]
  },
  {
   "cell_type": "markdown",
   "metadata": {},
   "source": [
    "### 10 Epochs, Image Augmentation, Increased Batch Size"
   ]
  },
  {
   "cell_type": "code",
   "execution_count": 20,
   "metadata": {},
   "outputs": [],
   "source": [
    "## Building the Model\n",
    "\n",
    "model=Sequential()\n",
    "model.add(Conv2D(filters=8,kernel_size=(5,5),padding=\"Same\",activation=\"relu\",input_shape=(224,224,3)))\n",
    "model.add(MaxPool2D(pool_size=(2,2)))\n",
    "model.add(Dropout(0.25))\n",
    "\n",
    "model.add(Conv2D(filters=16,kernel_size=(4,4),padding=\"Same\",activation=\"relu\"))\n",
    "model.add(MaxPool2D(pool_size=(2,2),strides=(2,2)))\n",
    "model.add(Dropout(0.25))\n",
    "\n",
    "model.add(Conv2D(filters=32,kernel_size=(4,4),padding=\"Same\",activation=\"relu\"))\n",
    "model.add(MaxPool2D(pool_size=(2,2),strides=(2,2)))\n",
    "model.add(Dropout(0.25))\n",
    "model.add(Flatten())\n",
    "model.add(Dense(512,activation=\"relu\"))\n",
    "model.add(Dropout(0.5))\n",
    "model.add(Dense(9,activation=\"softmax\"))\n",
    "\n",
    "# optimization\n",
    "optimizer=Adam(lr=0.001,beta_1=0.9,beta_2=0.999)\n",
    "\n",
    "# compiling the model\n",
    "model.compile(optimizer=optimizer,loss=\"categorical_crossentropy\",metrics=[\"accuracy\"])\n",
    "\n",
    "epochs=10\n",
    "batch_size=36"
   ]
  },
  {
   "cell_type": "code",
   "execution_count": 21,
   "metadata": {},
   "outputs": [
    {
     "name": "stdout",
     "output_type": "stream",
     "text": [
      "Epoch 1/10\n",
      "122/122 [==============================] - 115s 940ms/step - loss: 2.1450 - acc: 0.2618 - val_loss: 1.1303 - val_acc: 0.5101\n",
      "Epoch 2/10\n",
      "122/122 [==============================] - 147s 1s/step - loss: 0.9832 - acc: 0.6224 - val_loss: 0.7869 - val_acc: 0.6705\n",
      "Epoch 3/10\n",
      "122/122 [==============================] - 132s 1s/step - loss: 0.6027 - acc: 0.7843 - val_loss: 0.3944 - val_acc: 0.8714\n",
      "Epoch 4/10\n",
      "122/122 [==============================] - 116s 954ms/step - loss: 0.3861 - acc: 0.8606 - val_loss: 0.2010 - val_acc: 0.9215\n",
      "Epoch 5/10\n",
      "122/122 [==============================] - 152s 1s/step - loss: 0.2910 - acc: 0.8923 - val_loss: 0.2243 - val_acc: 0.9486\n",
      "Epoch 6/10\n",
      "122/122 [==============================] - 135s 1s/step - loss: 0.2538 - acc: 0.9105 - val_loss: 0.1574 - val_acc: 0.9675\n",
      "Epoch 7/10\n",
      "122/122 [==============================] - 135s 1s/step - loss: 0.2128 - acc: 0.9218 - val_loss: 0.1761 - val_acc: 0.9093\n",
      "Epoch 8/10\n",
      "122/122 [==============================] - 118s 967ms/step - loss: 0.1930 - acc: 0.9278 - val_loss: 0.0844 - val_acc: 0.9770\n",
      "Epoch 9/10\n",
      "122/122 [==============================] - 117s 957ms/step - loss: 0.1640 - acc: 0.9413 - val_loss: 0.0830 - val_acc: 0.9790\n",
      "Epoch 10/10\n",
      "122/122 [==============================] - 118s 963ms/step - loss: 0.1805 - acc: 0.9369 - val_loss: 0.1640 - val_acc: 0.9357\n",
      "CPU times: user 1h 30min 19s, sys: 17min 36s, total: 1h 47min 55s\n",
      "Wall time: 21min 25s\n"
     ]
    }
   ],
   "source": [
    "%%time\n",
    "\n",
    "# Adding Variations of Original photos to prevent overfiting\n",
    "\n",
    "datagen=ImageDataGenerator(featurewise_center=False, \n",
    "                           samplewise_center=False,  \n",
    "                           featurewise_std_normalization=False, \n",
    "                           samplewise_std_normalization=False,  \n",
    "                           zca_whitening=False,  \n",
    "                           rotation_range=0.5,    \n",
    "                           zoom_range=0.5,        \n",
    "                           width_shift_range=0.5, \n",
    "                           height_shift_range=0.5,\n",
    "                           horizontal_flip=False,  \n",
    "                           vertical_flip=False,\n",
    "                           )\n",
    "datagen.fit(x_train)\n",
    "\n",
    "# model fitting\n",
    "history=model.fit_generator(datagen.flow(x_train,y_train,batch_size=batch_size),epochs=epochs,\n",
    "                            validation_data=(x_val,y_val),steps_per_epoch=x_train.shape[0]//batch_size\n",
    "                           )"
   ]
  },
  {
   "cell_type": "code",
   "execution_count": 22,
   "metadata": {},
   "outputs": [
    {
     "name": "stdout",
     "output_type": "stream",
     "text": [
      "              precision    recall  f1-score   support\n",
      "\n",
      "           0       1.00      1.00      1.00       164\n",
      "           1       1.00      0.68      0.81       164\n",
      "           2       0.70      0.74      0.72       164\n",
      "           3       1.00      1.00      1.00       166\n",
      "           4       0.80      1.00      0.89       164\n",
      "           5       1.00      1.00      1.00       166\n",
      "           6       1.00      1.00      1.00       166\n",
      "           7       1.00      1.00      1.00       166\n",
      "           8       1.00      1.00      1.00       158\n",
      "\n",
      "   micro avg       0.94      0.94      0.94      1478\n",
      "   macro avg       0.94      0.94      0.93      1478\n",
      "weighted avg       0.94      0.94      0.93      1478\n",
      "\n"
     ]
    }
   ],
   "source": [
    "pred =  model.predict_classes(x_val)\n",
    "print(classification_report(Y_test_2, pred))"
   ]
  },
  {
   "cell_type": "code",
   "execution_count": 23,
   "metadata": {},
   "outputs": [
    {
     "data": {
      "image/png": "[encoded data removed]",
      "text/plain": [
       "<Figure size 432x288 with 1 Axes>"
      ]
     },
     "metadata": {
      "needs_background": "light"
     },
     "output_type": "display_data"
    }
   ],
   "source": [
    "## Visualizing Model Accuracy\n",
    "\n",
    "plt.plot(history.history[\"val_acc\"],color=\"r\",label=\"val_acc\")\n",
    "plt.title(\"Accuracy Graph\")\n",
    "plt.xlabel(\"number of epochs\")\n",
    "plt.ylabel(\"accuracy\")\n",
    "plt.legend()\n",
    "plt.grid()\n",
    "plt.show()"
   ]
  },
  {
   "cell_type": "markdown",
   "metadata": {},
   "source": [
    "Increasing the batch size significantly reduced runtime and computational complexity. There was a significant drop in accuracy, however."
   ]
  },
  {
   "cell_type": "markdown",
   "metadata": {},
   "source": [
    "### 10 Epochs With RNN Only"
   ]
  },
  {
   "cell_type": "code",
   "execution_count": 37,
   "metadata": {},
   "outputs": [],
   "source": [
    "## Building the Model\n",
    "\n",
    "model = Sequential()\n",
    "model.add(LSTM(72, input_shape=(1,224*224*3)))\n",
    "model.add(Dense(9, activation='softmax'))\n",
    "model.compile(loss='categorical_crossentropy', optimizer='adam', metrics=['accuracy'])"
   ]
  },
  {
   "cell_type": "code",
   "execution_count": 38,
   "metadata": {
    "scrolled": false
   },
   "outputs": [
    {
     "name": "stdout",
     "output_type": "stream",
     "text": [
      "Train on 4399 samples, validate on 1478 samples\n",
      "Epoch 1/15\n",
      "4399/4399 [==============================] - 30s 7ms/step - loss: 2.2801 - acc: 0.1109 - val_loss: 2.2417 - val_acc: 0.1123\n",
      "Epoch 2/15\n",
      "4399/4399 [==============================] - 24s 5ms/step - loss: 2.1962 - acc: 0.1216 - val_loss: 2.1618 - val_acc: 0.2206\n",
      "Epoch 3/15\n",
      "4399/4399 [==============================] - 24s 6ms/step - loss: 2.1426 - acc: 0.2232 - val_loss: 2.1488 - val_acc: 0.2233\n",
      "Epoch 4/15\n",
      "4399/4399 [==============================] - 24s 6ms/step - loss: 2.1016 - acc: 0.2269 - val_loss: 2.0810 - val_acc: 0.2544\n",
      "Epoch 5/15\n",
      "4399/4399 [==============================] - 28s 6ms/step - loss: 2.0611 - acc: 0.3183 - val_loss: 2.0565 - val_acc: 0.3302\n",
      "Epoch 6/15\n",
      "4399/4399 [==============================] - 22s 5ms/step - loss: 2.0272 - acc: 0.3064 - val_loss: 2.0194 - val_acc: 0.2233\n",
      "Epoch 7/15\n",
      "4399/4399 [==============================] - 35s 8ms/step - loss: 1.9859 - acc: 0.3312 - val_loss: 1.9729 - val_acc: 0.3978\n",
      "Epoch 8/15\n",
      "4399/4399 [==============================] - 34s 8ms/step - loss: 1.9551 - acc: 0.4478 - val_loss: 1.9545 - val_acc: 0.4560\n",
      "Epoch 9/15\n",
      "4399/4399 [==============================] - 28s 6ms/step - loss: 1.9262 - acc: 0.5038 - val_loss: 1.9351 - val_acc: 0.4675\n",
      "Epoch 10/15\n",
      "4399/4399 [==============================] - 24s 5ms/step - loss: 1.9028 - acc: 0.5147 - val_loss: 1.9024 - val_acc: 0.4817\n",
      "Epoch 11/15\n",
      "4399/4399 [==============================] - 24s 5ms/step - loss: 1.8776 - acc: 0.6065 - val_loss: 1.8889 - val_acc: 0.4790\n",
      "Epoch 12/15\n",
      "4399/4399 [==============================] - 26s 6ms/step - loss: 1.8561 - acc: 0.5306 - val_loss: 1.8721 - val_acc: 0.5108\n",
      "Epoch 13/15\n",
      "4399/4399 [==============================] - 24s 6ms/step - loss: 1.8369 - acc: 0.5544 - val_loss: 1.8451 - val_acc: 0.5968\n",
      "Epoch 14/15\n",
      "4399/4399 [==============================] - 22s 5ms/step - loss: 1.8187 - acc: 0.6806 - val_loss: 1.8234 - val_acc: 0.7091\n",
      "Epoch 15/15\n",
      "4399/4399 [==============================] - 22s 5ms/step - loss: 1.8040 - acc: 0.7531 - val_loss: 1.8015 - val_acc: 0.7490\n"
     ]
    }
   ],
   "source": [
    "# model fitting\n",
    "\n",
    "history = model.fit(x_train.reshape(4399,1,224*224*3), y_train, validation_data=(x_val.reshape(1478,1,224*224*3),y_val), epochs=15, batch_size=500)"
   ]
  },
  {
   "cell_type": "code",
   "execution_count": 39,
   "metadata": {},
   "outputs": [
    {
     "name": "stdout",
     "output_type": "stream",
     "text": [
      "1478/1478 [==============================] - 3s 2ms/step\n",
      "Test loss: 1.801454110300428\n",
      "Test accuracy: 0.7489851149396419\n"
     ]
    }
   ],
   "source": [
    "score = model.evaluate(x_val.reshape(1478,1,224*224*3), y_val, verbose=1)\n",
    "\n",
    "print('Test loss:', score[0])\n",
    "print('Test accuracy:', score[1])"
   ]
  },
  {
   "cell_type": "code",
   "execution_count": 40,
   "metadata": {
    "scrolled": false
   },
   "outputs": [
    {
     "name": "stdout",
     "output_type": "stream",
     "text": [
      "              precision    recall  f1-score   support\n",
      "\n",
      "           0       1.00      1.00      1.00       164\n",
      "           1       0.00      0.00      0.00       164\n",
      "           2       0.94      0.94      0.94       164\n",
      "           3       1.00      1.00      1.00       166\n",
      "           4       0.00      0.00      0.00       164\n",
      "           5       0.50      1.00      0.67       166\n",
      "           6       0.50      1.00      0.67       166\n",
      "           7       0.82      0.80      0.81       166\n",
      "           8       1.00      1.00      1.00       158\n",
      "\n",
      "   micro avg       0.75      0.75      0.75      1478\n",
      "   macro avg       0.64      0.75      0.68      1478\n",
      "weighted avg       0.64      0.75      0.68      1478\n",
      "\n"
     ]
    }
   ],
   "source": [
    "pred =  model.predict_classes(x_val.reshape(1478,1,224*224*3))\n",
    "print(classification_report(Y_test_2, pred))"
   ]
  },
  {
   "cell_type": "code",
   "execution_count": 41,
   "metadata": {},
   "outputs": [
    {
     "data": {
      "image/png": "[encoded data removed]",
      "text/plain": [
       "<Figure size 432x288 with 1 Axes>"
      ]
     },
     "metadata": {
      "needs_background": "light"
     },
     "output_type": "display_data"
    }
   ],
   "source": [
    "## Visualizing Model Accuracy\n",
    "\n",
    "plt.plot(history.history[\"val_acc\"],color=\"r\",label=\"val_acc\")\n",
    "plt.title(\"Accuracy Graph\")\n",
    "plt.xlabel(\"number of epochs\")\n",
    "plt.ylabel(\"accuracy\")\n",
    "plt.legend()\n",
    "plt.grid()\n",
    "plt.show()"
   ]
  },
  {
   "cell_type": "markdown",
   "metadata": {},
   "source": [
    "### 10 Epochs with CNN + RNN and No Image Augmentation"
   ]
  },
  {
   "cell_type": "code",
   "execution_count": 58,
   "metadata": {},
   "outputs": [],
   "source": [
    "# Building The Model\n",
    "\n",
    "cnn=Sequential()\n",
    "cnn.add(Conv2D(filters=8,kernel_size=(5,5),padding=\"Same\",activation=\"relu\",input_shape=(224,224,3)))\n",
    "cnn.add(MaxPool2D(pool_size=(2,2)))\n",
    "cnn.add(Flatten())\n",
    "\n",
    "model = Sequential()\n",
    "model.add(TimeDistributed(cnn))\n",
    "model.add(LSTM(72, input_shape=(1,224*224*3)))\n",
    "model.add(Dense(9,activation=\"softmax\"))\n",
    "\n",
    "model.compile(optimizer=optimizer,loss=\"categorical_crossentropy\",metrics=[\"accuracy\"])"
   ]
  },
  {
   "cell_type": "code",
   "execution_count": 59,
   "metadata": {
    "scrolled": false
   },
   "outputs": [
    {
     "name": "stdout",
     "output_type": "stream",
     "text": [
      "Train on 4399 samples, validate on 1478 samples\n",
      "Epoch 1/10\n",
      "4399/4399 [==============================] - 94s 21ms/step - loss: 2.1461 - acc: 0.2537 - val_loss: 1.9514 - val_acc: 0.3701\n",
      "Epoch 2/10\n",
      "4399/4399 [==============================] - 96s 22ms/step - loss: 1.7933 - acc: 0.3876 - val_loss: 1.7949 - val_acc: 0.4195\n",
      "Epoch 3/10\n",
      "4399/4399 [==============================] - 107s 24ms/step - loss: 1.6931 - acc: 0.4094 - val_loss: 1.6673 - val_acc: 0.4344\n",
      "Epoch 4/10\n",
      "4399/4399 [==============================] - 99s 23ms/step - loss: 1.5532 - acc: 0.4501 - val_loss: 1.6234 - val_acc: 0.4283\n",
      "Epoch 5/10\n",
      "4399/4399 [==============================] - 108s 25ms/step - loss: 1.4564 - acc: 0.5140 - val_loss: 1.5622 - val_acc: 0.4398\n",
      "Epoch 6/10\n",
      "4399/4399 [==============================] - 115s 26ms/step - loss: 1.3877 - acc: 0.5044 - val_loss: 1.4191 - val_acc: 0.4452\n",
      "Epoch 7/10\n",
      "4399/4399 [==============================] - 124s 28ms/step - loss: 1.3069 - acc: 0.5858 - val_loss: 1.3329 - val_acc: 0.5636\n",
      "Epoch 8/10\n",
      "4399/4399 [==============================] - 144s 33ms/step - loss: 1.2133 - acc: 0.6620 - val_loss: 1.3117 - val_acc: 0.6455\n",
      "Epoch 9/10\n",
      "4399/4399 [==============================] - 110s 25ms/step - loss: 1.1584 - acc: 0.6904 - val_loss: 1.2827 - val_acc: 0.5785\n",
      "Epoch 10/10\n",
      "4399/4399 [==============================] - 99s 22ms/step - loss: 1.1127 - acc: 0.7093 - val_loss: 1.2509 - val_acc: 0.6820\n",
      "CPU times: user 1h 14min 44s, sys: 18min, total: 1h 32min 44s\n",
      "Wall time: 18min 16s\n"
     ]
    }
   ],
   "source": [
    "%%time\n",
    "\n",
    "# Model Fitting\n",
    "\n",
    "history = model.fit(x_train.reshape(4399,1,224,224,3), y_train, validation_data=(x_val.reshape(1478,1,224,224,3),y_val), epochs=10, batch_size=128)"
   ]
  },
  {
   "cell_type": "code",
   "execution_count": 60,
   "metadata": {},
   "outputs": [
    {
     "data": {
      "image/png": "[encoded data removed]",
      "text/plain": [
       "<Figure size 432x288 with 1 Axes>"
      ]
     },
     "metadata": {
      "needs_background": "light"
     },
     "output_type": "display_data"
    }
   ],
   "source": [
    "## Visualizing Model Accuracy\n",
    "\n",
    "plt.plot(history.history[\"val_acc\"],color=\"r\",label=\"val_acc\")\n",
    "plt.title(\"Accuracy Graph\")\n",
    "plt.xlabel(\"number of epochs\")\n",
    "plt.ylabel(\"accuracy\")\n",
    "plt.legend()\n",
    "plt.grid()\n",
    "plt.show()"
   ]
  },
  {
   "cell_type": "code",
   "execution_count": 62,
   "metadata": {},
   "outputs": [
    {
     "name": "stdout",
     "output_type": "stream",
     "text": [
      "1478/1478 [==============================] - 5s 4ms/step\n",
      "Test loss: 1.2508743965899993\n",
      "Test accuracy: 0.6820027064406017\n"
     ]
    }
   ],
   "source": [
    "\n",
    "score = model.evaluate(x_val.reshape(1478,1,224,224,3), y_val, verbose=1)\n",
    "\n",
    "print('Test loss:', score[0])\n",
    "print('Test accuracy:', score[1])"
   ]
  },
  {
   "cell_type": "code",
   "execution_count": 61,
   "metadata": {},
   "outputs": [
    {
     "name": "stdout",
     "output_type": "stream",
     "text": [
      "              precision    recall  f1-score   support\n",
      "\n",
      "           0       1.00      0.83      0.91       164\n",
      "           1       0.73      0.73      0.73       164\n",
      "           2       0.00      0.00      0.00       164\n",
      "           3       0.57      0.49      0.53       166\n",
      "           4       0.40      0.79      0.53       164\n",
      "           5       0.80      0.87      0.83       166\n",
      "           6       0.64      1.00      0.78       166\n",
      "           7       0.62      0.44      0.52       166\n",
      "           8       1.00      1.00      1.00       158\n",
      "\n",
      "   micro avg       0.68      0.68      0.68      1478\n",
      "   macro avg       0.64      0.68      0.65      1478\n",
      "weighted avg       0.64      0.68      0.65      1478\n",
      "\n"
     ]
    }
   ],
   "source": [
    "# Model Evaluation\n",
    "\n",
    "pred =  model.predict_classes(x_val.reshape(1478,1,224,224,3))\n",
    "print(classification_report(Y_test_2, pred))"
   ]
  },
  {
   "cell_type": "code",
   "execution_count": null,
   "metadata": {},
   "outputs": [],
   "source": []
  }
 ],
 "metadata": {
  "kernelspec": {
   "display_name": "Python 3",
   "language": "python",
   "name": "python3"
  },
  "language_info": {
   "codemirror_mode": {
    "name": "ipython",
    "version": 3
   },
   "file_extension": ".py",
   "mimetype": "text/x-python",
   "name": "python",
   "nbconvert_exporter": "python",
   "pygments_lexer": "ipython3",
   "version": "3.7.3"
  }
 },
 "nbformat": 4,
 "nbformat_minor": 2
}
