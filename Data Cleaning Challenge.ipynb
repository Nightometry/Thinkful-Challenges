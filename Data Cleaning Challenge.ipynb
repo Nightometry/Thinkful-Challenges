{
 "cells": [
  {
   "cell_type": "code",
   "execution_count": 1,
   "metadata": {},
   "outputs": [],
   "source": [
    "## Import packages \n",
    "\n",
    "import pandas as pd\n",
    "import numpy as np\n",
    "import matplotlib.pyplot as plt\n",
    "import statistics\n",
    "import seaborn as sns\n",
    "%matplotlib inline\n",
    "\n",
    "## Load File\n",
    "\n",
    "df = pd.read_csv('https://raw.githubusercontent.com/borja876/Thinkful-DataScience-Borja/master/WELLCOME_APCspend2013_forThinkful.csv', encoding='latin1')"
   ]
  },
  {
   "cell_type": "code",
   "execution_count": 2,
   "metadata": {},
   "outputs": [],
   "source": [
    "## View DataFrame\n",
    "#df"
   ]
  },
  {
   "cell_type": "markdown",
   "metadata": {},
   "source": [
    "## Determine the five most common journals and the total articles for each"
   ]
  },
  {
   "cell_type": "code",
   "execution_count": 3,
   "metadata": {},
   "outputs": [],
   "source": [
    "## View counts of each Journal Entry (as typed)\n",
    "#journal_counts=df['Journal title'].value_counts()\n",
    "#print(journal_counts)"
   ]
  },
  {
   "cell_type": "code",
   "execution_count": 4,
   "metadata": {},
   "outputs": [],
   "source": [
    "## Create a function to count values of new DataFrames\n",
    "\n",
    "def count(x): \n",
    "    return x.value_counts()"
   ]
  },
  {
   "cell_type": "code",
   "execution_count": 5,
   "metadata": {},
   "outputs": [],
   "source": [
    "### Go through Each Value Count and standardize entries clearly referring to the same journal"
   ]
  },
  {
   "cell_type": "code",
   "execution_count": 6,
   "metadata": {},
   "outputs": [],
   "source": [
    "## Standardize PLOS ONE entries\n",
    "\n",
    "## Converting whole DataFrame to lowercase in the process\n",
    "df_lower = df.applymap(lambda x: x.lower() if type(x) == str else x )"
   ]
  },
  {
   "cell_type": "code",
   "execution_count": 7,
   "metadata": {},
   "outputs": [
    {
     "data": {
      "text/plain": [
       "plos one                                                                            190\n",
       "journal of biological chemistry                                                      53\n",
       "neuroimage                                                                           29\n",
       "plos genetics                                                                        24\n",
       "plos pathogens                                                                       24\n",
       "nucleic acids research                                                               23\n",
       "proceedings of the national academy of sciences                                      20\n",
       "plos neglected tropical diseases                                                     20\n",
       "human molecular genetics                                                             19\n",
       "nature communications                                                                19\n",
       "bmc public health                                                                    14\n",
       "brain                                                                                14\n",
       "movement disorders                                                                   13\n",
       "developmental cell                                                                   12\n",
       "journal of neuroscience                                                              12\n",
       "biochemical journal                                                                  12\n",
       "current biology                                                                      11\n",
       "journal of general virology                                                          11\n",
       "bmj                                                                                  10\n",
       "plos computational biology                                                            9\n",
       "neuron                                                                                9\n",
       "bmj open                                                                              9\n",
       "cell reports                                                                          9\n",
       "plosone                                                                               9\n",
       "journal of structural biology                                                         8\n",
       "journal of clinical endocrinology and metabolism                                      8\n",
       "journal of virology                                                                   8\n",
       "neurobiology of aging                                                                 8\n",
       "hepatology                                                                            8\n",
       "journal of cell science                                                               8\n",
       "                                                                                   ... \n",
       "development science                                                                   1\n",
       "american journal of clinical nutrition                                                1\n",
       "journal of clinical microbiology                                                      1\n",
       "journal of viral hepatitis                                                            1\n",
       "journal of microbiology                                                               1\n",
       "child neuropsychology                                                                 1\n",
       "health promotion international                                                        1\n",
       "journal of neuroscience                                                               1\n",
       "sci rep                                                                               1\n",
       "bmj quality and safety                                                                1\n",
       "plos medicine journal                                                                 1\n",
       "pediatr infect dis j                                                                  1\n",
       "stem cell research                                                                    1\n",
       "springer                                                                              1\n",
       "journal of applied physiology                                                         1\n",
       "thorax an international journal for respiratory medicine                              1\n",
       "haematologica/the haematology journal                                                 1\n",
       "j steroid biochem mol biol                                                            1\n",
       "current topics in medicinal chemistry                                                 1\n",
       "population, space and place                                                           1\n",
       "molecular & cellular proteomics                                                       1\n",
       "emotion                                                                               1\n",
       "proceedings of the national academy of sciences of the united states of america       1\n",
       "neuromolecular medicine                                                               1\n",
       "magnetic resonance in medicine                                                        1\n",
       "international reviews of immunology                                                   1\n",
       "biomacromolecules                                                                     1\n",
       "neuropathology and applied neurobiology                                               1\n",
       "biochemical pharmacology                                                              1\n",
       "pflugers archiv                                                                       1\n",
       "Name: Journal title, Length: 928, dtype: int64"
      ]
     },
     "execution_count": 7,
     "metadata": {},
     "output_type": "execute_result"
    }
   ],
   "source": [
    "## View DataFrame after this change. all words are lowercase\n",
    "# df_lower\n",
    "\n",
    "## View Journal Title Counts after this change. \n",
    "count(df_lower['Journal title'])"
   ]
  },
  {
   "cell_type": "markdown",
   "metadata": {},
   "source": [
    "**The five most common jourals (and the respective number of articles) are: PLOS One (190), Journal of Biological Chemistry (53), Neuroimage (29), PLOS Pathogens (24), and PLOS Genetics (24).**"
   ]
  },
  {
   "cell_type": "markdown",
   "metadata": {},
   "source": [
    "## Next, calculate the mean, median, and standard deviation of the open-access cost per article for each journal"
   ]
  },
  {
   "cell_type": "code",
   "execution_count": 8,
   "metadata": {},
   "outputs": [],
   "source": [
    "### Cleaning Article Cost Entries "
   ]
  },
  {
   "cell_type": "code",
   "execution_count": 9,
   "metadata": {},
   "outputs": [],
   "source": [
    "## removed currency symbols from cost column\n",
    "\n",
    "## removed £\n",
    "df_lower_currency1_removed = df_lower.apply(lambda x: x.str.replace('£', ''))\n",
    "\n",
    "## removed $\n",
    "df_lower_currency2_removed = df_lower_currency1_removed.apply(lambda x: x.str.replace('$', ''))"
   ]
  },
  {
   "cell_type": "code",
   "execution_count": 10,
   "metadata": {},
   "outputs": [],
   "source": [
    "## remove extreme values\n",
    "\n",
    "## Identify extreme values\n",
    "\n",
    "#df_lower_currency2_removed['COST (£) charged to Wellcome (inc VAT when charged)'].apply(pd.to_numeric).describe()\n",
    "#df_lower_currency2_removed['COST (£) charged to Wellcome (inc VAT when charged)'].apply(pd.to_numeric).value_counts()\n",
    "\n",
    "##Identified 999999.00 as an extreme"
   ]
  },
  {
   "cell_type": "code",
   "execution_count": 11,
   "metadata": {
    "scrolled": false
   },
   "outputs": [
    {
     "data": {
      "text/plain": [
       "count      2080.000000\n",
       "mean       2015.038038\n",
       "std        6100.422956\n",
       "min           0.000000\n",
       "25%        1268.700000\n",
       "50%        1852.505000\n",
       "75%        2302.930000\n",
       "max      201024.000000\n",
       "Name: COST (£) charged to Wellcome (inc VAT when charged), dtype: float64"
      ]
     },
     "execution_count": 11,
     "metadata": {},
     "output_type": "execute_result"
    }
   ],
   "source": [
    "## Find mean if extremes were removed\n",
    "\n",
    "## Create Throwaway copy of main DataFrame\n",
    "df_lower_currency2b_removed = df_lower_currency1_removed.apply(lambda x: x.str.replace('$', ''))\n",
    "\n",
    "## Remove Extreme Values from temporary DataFrame\n",
    "q = df_lower_currency2b_removed['COST (£) charged to Wellcome (inc VAT when charged)'].apply(pd.to_numeric).quantile(0.99)\n",
    "df_lower_currency2b_removed = df_lower_currency2b_removed[df_lower_currency2b_removed['COST (£) charged to Wellcome (inc VAT when charged)'].apply(pd.to_numeric) < q]\n",
    "\n",
    "## Get Statistics for temporary DataFrame\n",
    "df_lower_currency2b_removed['COST (£) charged to Wellcome (inc VAT when charged)'].apply(pd.to_numeric).describe()"
   ]
  },
  {
   "cell_type": "code",
   "execution_count": 12,
   "metadata": {},
   "outputs": [],
   "source": [
    "## Replace 999999.00 value with mean\n",
    "\n",
    "df_lower_currency3_removed = df_lower_currency2_removed.apply(lambda x: x.str.replace('999999.00', '2015.04'))"
   ]
  },
  {
   "cell_type": "code",
   "execution_count": 13,
   "metadata": {},
   "outputs": [],
   "source": [
    "## Check New DataFrame\n",
    "#df_lower_currency3_removed['COST (£) charged to Wellcome (inc VAT when charged)'].apply(pd.to_numeric).describe()"
   ]
  },
  {
   "cell_type": "code",
   "execution_count": 14,
   "metadata": {},
   "outputs": [],
   "source": [
    "df_lower_currency_removed = df_lower_currency3_removed"
   ]
  },
  {
   "cell_type": "code",
   "execution_count": 15,
   "metadata": {},
   "outputs": [],
   "source": [
    "## View new DataFrame\n",
    "#df_lower_currency_removed"
   ]
  },
  {
   "cell_type": "code",
   "execution_count": 16,
   "metadata": {},
   "outputs": [],
   "source": [
    "## Creating Separate DataFrames for each Journal Title\n",
    "\n",
    "plos_one_isolated=df_lower_currency_removed.loc[lambda df: df['Journal title'] == 'plos one', :]\n",
    "\n",
    "jbc_isolated=df_lower_currency_removed.loc[lambda df: df['Journal title'] == 'journal of biological chemistry', :]\n",
    "\n",
    "neuroimage_isolated=df_lower_currency_removed.loc[lambda df: df['Journal title'] == 'neuroimage', :]\n",
    "\n",
    "plos_pathogens_isolated=df_lower_currency_removed.loc[lambda df: df['Journal title'] == 'plos pathogens', :]\n",
    "\n",
    "plos_genetics_isolated=df_lower_currency_removed.loc[lambda df: df['Journal title'] == 'plos genetics', :]"
   ]
  },
  {
   "cell_type": "code",
   "execution_count": 17,
   "metadata": {
    "scrolled": true
   },
   "outputs": [
    {
     "data": {
      "text/plain": [
       "count       190.000000\n",
       "mean       1983.461263\n",
       "std       13908.126819\n",
       "min         122.310000\n",
       "25%         852.455000\n",
       "50%         898.475000\n",
       "75%        1044.737500\n",
       "max      192645.000000\n",
       "Name: COST (£) charged to Wellcome (inc VAT when charged), dtype: float64"
      ]
     },
     "execution_count": 17,
     "metadata": {},
     "output_type": "execute_result"
    }
   ],
   "source": [
    "## Calculating Mean, Median, Standard deviation for PLOS One article Costs\n",
    "\n",
    "## Describe PLOS One costs\n",
    "plos_one_isolated['COST (£) charged to Wellcome (inc VAT when charged)'].apply(pd.to_numeric).describe()"
   ]
  },
  {
   "cell_type": "code",
   "execution_count": 18,
   "metadata": {},
   "outputs": [],
   "source": [
    "## Remove Extreme Costs \n",
    "\n",
    "r = plos_one_isolated['COST (£) charged to Wellcome (inc VAT when charged)'].apply(pd.to_numeric).quantile(0.99)\n",
    "\n",
    "plos_one_isolated_reduced = plos_one_isolated[plos_one_isolated['COST (£) charged to Wellcome (inc VAT when charged)'].apply(pd.to_numeric) < r]"
   ]
  },
  {
   "cell_type": "code",
   "execution_count": 19,
   "metadata": {},
   "outputs": [],
   "source": [
    "## Describe Article Costs"
   ]
  },
  {
   "cell_type": "code",
   "execution_count": 20,
   "metadata": {},
   "outputs": [
    {
     "data": {
      "text/plain": [
       "count     182.000000\n",
       "mean      934.655824\n",
       "std       201.847589\n",
       "min       122.310000\n",
       "25%       850.125000\n",
       "50%       896.975000\n",
       "75%      1040.737500\n",
       "max      1785.360000\n",
       "Name: COST (£) charged to Wellcome (inc VAT when charged), dtype: float64"
      ]
     },
     "execution_count": 20,
     "metadata": {},
     "output_type": "execute_result"
    }
   ],
   "source": [
    "plos_one_isolated_reduced['COST (£) charged to Wellcome (inc VAT when charged)'].apply(pd.to_numeric).describe()"
   ]
  },
  {
   "cell_type": "markdown",
   "metadata": {},
   "source": [
    "**PLOS One Article Cost Statistics <br>\n",
    "mean:      934.655824 <br>\n",
    "median:    896.975000 <br>\n",
    "std:       201.847589**\n"
   ]
  },
  {
   "cell_type": "code",
   "execution_count": 21,
   "metadata": {},
   "outputs": [
    {
     "data": {
      "text/plain": [
       "count      53.000000\n",
       "mean     1434.747925\n",
       "std       415.984485\n",
       "min       265.670000\n",
       "25%      1152.720000\n",
       "50%      1314.530000\n",
       "75%      1610.310000\n",
       "max      2501.070000\n",
       "Name: COST (£) charged to Wellcome (inc VAT when charged), dtype: float64"
      ]
     },
     "execution_count": 21,
     "metadata": {},
     "output_type": "execute_result"
    }
   ],
   "source": [
    "jbc_isolated['COST (£) charged to Wellcome (inc VAT when charged)'].apply(pd.to_numeric).describe()"
   ]
  },
  {
   "cell_type": "markdown",
   "metadata": {},
   "source": [
    "**Journal of Biological Chemistry Cost Statistics <br>\n",
    "mean:     1434.747925 <br>\n",
    "median:      1314.530000 <br>\n",
    "std:       415.984485**"
   ]
  },
  {
   "cell_type": "code",
   "execution_count": 22,
   "metadata": {},
   "outputs": [
    {
     "data": {
      "text/plain": [
       "count      29.000000\n",
       "mean     2215.168276\n",
       "std       266.653947\n",
       "min      1747.160000\n",
       "25%      2100.540000\n",
       "50%      2326.430000\n",
       "75%      2396.570000\n",
       "max      2503.340000\n",
       "Name: COST (£) charged to Wellcome (inc VAT when charged), dtype: float64"
      ]
     },
     "execution_count": 22,
     "metadata": {},
     "output_type": "execute_result"
    }
   ],
   "source": [
    "neuroimage_isolated['COST (£) charged to Wellcome (inc VAT when charged)'].apply(pd.to_numeric).describe()"
   ]
  },
  {
   "cell_type": "markdown",
   "metadata": {},
   "source": [
    "**Neuroimage Cost Statistics <br>\n",
    "mean:     2215.168276 <br>\n",
    "median:      2326.430000 <br>\n",
    "std:       266.653947**"
   ]
  },
  {
   "cell_type": "code",
   "execution_count": 23,
   "metadata": {},
   "outputs": [
    {
     "data": {
      "text/plain": [
       "count      24.000000\n",
       "mean     1609.714583\n",
       "std       198.700369\n",
       "min      1254.020000\n",
       "25%      1440.000000\n",
       "50%      1600.520000\n",
       "75%      1760.310000\n",
       "max      2015.040000\n",
       "Name: COST (£) charged to Wellcome (inc VAT when charged), dtype: float64"
      ]
     },
     "execution_count": 23,
     "metadata": {},
     "output_type": "execute_result"
    }
   ],
   "source": [
    "plos_pathogens_isolated['COST (£) charged to Wellcome (inc VAT when charged)'].apply(pd.to_numeric).describe()"
   ]
  },
  {
   "cell_type": "markdown",
   "metadata": {},
   "source": [
    "**PLOS Pathogens Cost Statistics <br>\n",
    "mean:     1609.714583 <br>\n",
    "median:      1600.520000 <br>\n",
    "std:       198.700369**"
   ]
  },
  {
   "cell_type": "code",
   "execution_count": 24,
   "metadata": {},
   "outputs": [
    {
     "data": {
      "text/plain": [
       "count      24.000000\n",
       "mean     1674.105000\n",
       "std       180.284357\n",
       "min      1394.050000\n",
       "25%      1484.862500\n",
       "50%      1718.390000\n",
       "75%      1778.225000\n",
       "max      2015.040000\n",
       "Name: COST (£) charged to Wellcome (inc VAT when charged), dtype: float64"
      ]
     },
     "execution_count": 24,
     "metadata": {},
     "output_type": "execute_result"
    }
   ],
   "source": [
    "plos_genetics_isolated['COST (£) charged to Wellcome (inc VAT when charged)'].apply(pd.to_numeric).describe()"
   ]
  },
  {
   "cell_type": "markdown",
   "metadata": {},
   "source": [
    "**PLOS Genetics Cost Statistics <br>\n",
    "mean:     1674.105000 <br>\n",
    "median:      1718.390000 <br>\n",
    "std:       180.284357**"
   ]
  },
  {
   "cell_type": "code",
   "execution_count": null,
   "metadata": {},
   "outputs": [],
   "source": []
  }
 ],
 "metadata": {
  "kernelspec": {
   "display_name": "Python 3",
   "language": "python",
   "name": "python3"
  },
  "language_info": {
   "codemirror_mode": {
    "name": "ipython",
    "version": 3
   },
   "file_extension": ".py",
   "mimetype": "text/x-python",
   "name": "python",
   "nbconvert_exporter": "python",
   "pygments_lexer": "ipython3",
   "version": "3.7.2"
  }
 },
 "nbformat": 4,
 "nbformat_minor": 2
}
