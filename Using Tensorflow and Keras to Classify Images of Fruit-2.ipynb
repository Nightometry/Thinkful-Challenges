{
 "cells": [
  {
   "cell_type": "markdown",
   "metadata": {},
   "source": [
    "# Using Tensorflow and Keras to Classify Images of Fruit"
   ]
  },
  {
   "cell_type": "code",
   "execution_count": 1,
   "metadata": {},
   "outputs": [
    {
     "name": "stderr",
     "output_type": "stream",
     "text": [
      "Using TensorFlow backend.\n"
     ]
    }
   ],
   "source": [
    "from __future__ import print_function\n",
    "\n",
    "import matplotlib.pyplot as plt \n",
    "from PIL import Image \n",
    "import seaborn as sns\n",
    "import pandas as pd \n",
    "import numpy as np \n",
    "import os\n",
    "from keras.preprocessing import image\n",
    "import random\n",
    "from keras import utils\n",
    "from sklearn.metrics import confusion_matrix\n",
    "import itertools\n",
    "from sklearn.metrics import classification_report\n",
    "\n",
    "\n",
    "import keras\n",
    "from keras.models import Model\n",
    "from keras.layers import Input, Dense, TimeDistributed\n",
    "from keras.layers import LSTM\n",
    "from keras.utils.np_utils import to_categorical\n",
    "from keras.models import Sequential\n",
    "from keras.layers import Dense,Dropout,Flatten,Conv2D,MaxPool2D\n",
    "from keras.optimizers import RMSprop,Adam\n",
    "from keras.preprocessing.image import ImageDataGenerator\n",
    "from keras.callbacks import ReduceLROnPlateau\n",
    "\n",
    "%matplotlib inline "
   ]
  },
  {
   "cell_type": "code",
   "execution_count": 2,
   "metadata": {},
   "outputs": [],
   "source": [
    "# Import the dataset\n",
    "from keras.datasets import mnist\n",
    "\n",
    "# Import various componenets for model building\n",
    "from keras.models import Sequential\n",
    "from keras.layers import Dense, Dropout, Flatten, Conv2D, MaxPooling2D\n",
    "from keras.layers import LSTM, Input, TimeDistributed\n",
    "from keras.models import Model\n",
    "from keras.optimizers import RMSprop\n",
    "\n",
    "# Import the backend\n",
    "from keras import backend as K"
   ]
  },
  {
   "cell_type": "markdown",
   "metadata": {},
   "source": [
    "## Data Preprocessing"
   ]
  },
  {
   "cell_type": "code",
   "execution_count": 3,
   "metadata": {},
   "outputs": [
    {
     "name": "stdout",
     "output_type": "stream",
     "text": [
      "['Cherry 1', 'Strawberry', 'Pomegranate', 'Guava', 'Apple Red 1', 'Mandarine', 'Raspberry', 'Banana Red', 'Grape White 4']\n"
     ]
    }
   ],
   "source": [
    "\n",
    "# Get the categories for each label\n",
    "\n",
    "data_path = '/Users/Amechi/Documents/Python Files/fruits/fruits-360/Training'\n",
    "CATEGORIES = []\n",
    "\n",
    "file_list = os.listdir(data_path)\n",
    "file_list.remove('.DS_Store')\n",
    "\n",
    "for filename in file_list:\n",
    "    CATEGORIES.append(filename)\n",
    "print(CATEGORIES)       "
   ]
  },
  {
   "cell_type": "markdown",
   "metadata": {},
   "source": [
    "### Training Data"
   ]
  },
  {
   "cell_type": "code",
   "execution_count": 4,
   "metadata": {},
   "outputs": [
    {
     "name": "stdout",
     "output_type": "stream",
     "text": [
      "CPU times: user 3.79 s, sys: 1.56 s, total: 5.35 s\n",
      "Wall time: 6.63 s\n"
     ]
    }
   ],
   "source": [
    "%%time\n",
    "\n",
    "# Loading Training data\n",
    "\n",
    "training_data=[]\n",
    "n_categories=[]\n",
    "\n",
    "def create_training_data():\n",
    "    for category in CATEGORIES:\n",
    "        folder_path = os.path.join(data_path, category).replace(\"\\\\\",\"/\")\n",
    "        class_num = CATEGORIES.index(category)\n",
    "        counter = 0\n",
    "        for i in os.listdir(folder_path):\n",
    "            try:\n",
    "                img_path = os.path.join(folder_path, i).replace(\"\\\\\",\"/\")\n",
    "                img = image.load_img(img_path, target_size=(224, 224))\n",
    "                img = image.img_to_array(img)\n",
    "                training_data.append([img, class_num])\n",
    "                counter += 1\n",
    "            except Exception as e:\n",
    "                pass\n",
    "        n_categories.append(counter)\n",
    "create_training_data()"
   ]
  },
  {
   "cell_type": "code",
   "execution_count": 5,
   "metadata": {},
   "outputs": [
    {
     "data": {
      "image/png": "[encoded data removed]",
      "text/plain": [
       "<Figure size 720x720 with 1 Axes>"
      ]
     },
     "metadata": {
      "needs_background": "light"
     },
     "output_type": "display_data"
    }
   ],
   "source": [
    "# Visualizing Fruit Frequencies of training data\n",
    "\n",
    "plt.figure(figsize=(10,10))\n",
    "plt.bar(CATEGORIES, n_categories)\n",
    "plt.xticks(CATEGORIES, rotation=45)\n",
    "plt.show()"
   ]
  },
  {
   "cell_type": "code",
   "execution_count": 6,
   "metadata": {
    "scrolled": true
   },
   "outputs": [
    {
     "name": "stdout",
     "output_type": "stream",
     "text": [
      "CPU times: user 1.3 s, sys: 2.71 s, total: 4.01 s\n",
      "Wall time: 4.41 s\n"
     ]
    }
   ],
   "source": [
    "%%time\n",
    "# Preparing training data for CNN\n",
    "\n",
    "random.shuffle(training_data)\n",
    "\n",
    "X_train = []\n",
    "Y_train = []\n",
    "for img, class_num in training_data:\n",
    "    X_train.append(img)\n",
    "    Y_train.append(class_num)\n",
    "\n",
    "X_train = np.array(X_train).reshape(-1, 224, 224, 3)\n",
    "Y_train = np.array(Y_train)\n",
    "X_train.shape"
   ]
  },
  {
   "cell_type": "markdown",
   "metadata": {},
   "source": [
    "### Testing Data"
   ]
  },
  {
   "cell_type": "code",
   "execution_count": 7,
   "metadata": {},
   "outputs": [],
   "source": [
    "# Loading Test data\n",
    "\n",
    "testing_data = []\n",
    "n_test_categories = []\n",
    "test_path = '/Users/Amechi/Documents/Python Files/fruits/fruits-360/Test'\n",
    "test_CATEGORIES = []\n",
    "\n",
    "test_list = os.listdir(test_path)\n",
    "test_list.remove('.DS_Store')\n",
    "\n",
    "for filename in test_list:\n",
    "    test_CATEGORIES.append(filename)      \n",
    "\n",
    "def create_test_data():\n",
    "    for category in test_CATEGORIES:\n",
    "        folder_path = os.path.join(test_path, category).replace(\"\\\\\",\"/\")\n",
    "        class_num = test_CATEGORIES.index(category)\n",
    "        counter = 0\n",
    "        for i in os.listdir(folder_path):\n",
    "            try:\n",
    "                img_path = os.path.join(folder_path, i).replace(\"\\\\\",\"/\")\n",
    "                img = image.load_img(img_path, target_size=(224, 224))\n",
    "                img = image.img_to_array(img)\n",
    "                testing_data.append([img, class_num])\n",
    "                counter += 1\n",
    "            except Exception as e:\n",
    "                pass\n",
    "        n_test_categories.append(counter)\n",
    "create_test_data()\n"
   ]
  },
  {
   "cell_type": "code",
   "execution_count": 8,
   "metadata": {},
   "outputs": [
    {
     "data": {
      "image/png": "[encoded data removed]",
      "text/plain": [
       "<Figure size 720x720 with 1 Axes>"
      ]
     },
     "metadata": {
      "needs_background": "light"
     },
     "output_type": "display_data"
    }
   ],
   "source": [
    "# Visualizing Fruit Frequencies of testing data\n",
    "\n",
    "plt.figure(figsize=(10,10))\n",
    "plt.bar(test_CATEGORIES, n_test_categories)\n",
    "plt.xticks(test_CATEGORIES, rotation=45)\n",
    "plt.show()"
   ]
  },
  {
   "cell_type": "code",
   "execution_count": 9,
   "metadata": {},
   "outputs": [
    {
     "data": {
      "text/plain": [
       "(1478, 224, 224, 3)"
      ]
     },
     "execution_count": 9,
     "metadata": {},
     "output_type": "execute_result"
    }
   ],
   "source": [
    "# Prepare test data\n",
    "\n",
    "random.shuffle(testing_data)\n",
    "\n",
    "X_test = []\n",
    "Y_test = []\n",
    "for img, class_num in testing_data:\n",
    "    X_test.append(img)\n",
    "    Y_test.append(class_num)\n",
    "\n",
    "X_test = np.array(X_test).reshape(-1, 224, 224, 3)\n",
    "X_test.shape"
   ]
  },
  {
   "cell_type": "code",
   "execution_count": 10,
   "metadata": {},
   "outputs": [],
   "source": [
    "Y_train_2,Y_test_2 = Y_train,Y_test"
   ]
  },
  {
   "cell_type": "code",
   "execution_count": 11,
   "metadata": {},
   "outputs": [],
   "source": [
    "# Preparing Outcome Variables\n",
    "Y_train = utils.to_categorical(Y_train, num_classes=len(n_categories))\n",
    "Y_test = utils.to_categorical(Y_test, num_classes=len(n_test_categories))\n",
    "\n",
    "# Normalizing Data\n",
    "X_train_ = X_train/255\n",
    "X_test_ = X_test/255\n",
    "\n"
   ]
  },
  {
   "cell_type": "code",
   "execution_count": 12,
   "metadata": {},
   "outputs": [],
   "source": [
    "x_train,y_train = X_train_ , Y_train\n",
    "x_val,y_val = X_test_ , Y_test\n",
    "x_test,y_test = x_val,y_val"
   ]
  },
  {
   "cell_type": "markdown",
   "metadata": {},
   "source": [
    "## Modeling the Data"
   ]
  },
  {
   "cell_type": "markdown",
   "metadata": {},
   "source": [
    "### Control - 10 Epochs, Image Augmentation"
   ]
  },
  {
   "cell_type": "code",
   "execution_count": 13,
   "metadata": {
    "scrolled": true
   },
   "outputs": [
    {
     "name": "stderr",
     "output_type": "stream",
     "text": [
      "WARNING: Logging before flag parsing goes to stderr.\n",
      "W0827 07:49:33.015320 4665734592 deprecation_wrapper.py:119] From /usr/local/lib/python3.7/site-packages/keras/backend/tensorflow_backend.py:74: The name tf.get_default_graph is deprecated. Please use tf.compat.v1.get_default_graph instead.\n",
      "\n",
      "W0827 07:49:33.099858 4665734592 deprecation_wrapper.py:119] From /usr/local/lib/python3.7/site-packages/keras/backend/tensorflow_backend.py:517: The name tf.placeholder is deprecated. Please use tf.compat.v1.placeholder instead.\n",
      "\n",
      "W0827 07:49:33.125796 4665734592 deprecation_wrapper.py:119] From /usr/local/lib/python3.7/site-packages/keras/backend/tensorflow_backend.py:4138: The name tf.random_uniform is deprecated. Please use tf.random.uniform instead.\n",
      "\n",
      "W0827 07:49:33.166163 4665734592 deprecation_wrapper.py:119] From /usr/local/lib/python3.7/site-packages/keras/backend/tensorflow_backend.py:3976: The name tf.nn.max_pool is deprecated. Please use tf.nn.max_pool2d instead.\n",
      "\n",
      "W0827 07:49:33.169606 4665734592 deprecation_wrapper.py:119] From /usr/local/lib/python3.7/site-packages/keras/backend/tensorflow_backend.py:133: The name tf.placeholder_with_default is deprecated. Please use tf.compat.v1.placeholder_with_default instead.\n",
      "\n",
      "W0827 07:49:33.184988 4665734592 deprecation.py:506] From /usr/local/lib/python3.7/site-packages/keras/backend/tensorflow_backend.py:3445: calling dropout (from tensorflow.python.ops.nn_ops) with keep_prob is deprecated and will be removed in a future version.\n",
      "Instructions for updating:\n",
      "Please use `rate` instead of `keep_prob`. Rate should be set to `rate = 1 - keep_prob`.\n",
      "W0827 07:49:33.350193 4665734592 deprecation_wrapper.py:119] From /usr/local/lib/python3.7/site-packages/keras/optimizers.py:790: The name tf.train.Optimizer is deprecated. Please use tf.compat.v1.train.Optimizer instead.\n",
      "\n",
      "W0827 07:49:33.357277 4665734592 deprecation_wrapper.py:119] From /usr/local/lib/python3.7/site-packages/keras/backend/tensorflow_backend.py:3376: The name tf.log is deprecated. Please use tf.math.log instead.\n",
      "\n",
      "W0827 07:49:33.363233 4665734592 deprecation.py:323] From /usr/local/lib/python3.7/site-packages/tensorflow/python/ops/nn_impl.py:180: add_dispatch_support.<locals>.wrapper (from tensorflow.python.ops.array_ops) is deprecated and will be removed in a future version.\n",
      "Instructions for updating:\n",
      "Use tf.where in 2.0, which has the same broadcast rule as np.where\n"
     ]
    }
   ],
   "source": [
    "\n",
    "## Building the Model\n",
    "\n",
    "model=Sequential()\n",
    "model.add(Conv2D(filters=8,kernel_size=(5,5),padding=\"Same\",activation=\"relu\",input_shape=(224,224,3)))\n",
    "model.add(MaxPool2D(pool_size=(2,2)))\n",
    "model.add(Dropout(0.25))\n",
    "\n",
    "model.add(Conv2D(filters=16,kernel_size=(4,4),padding=\"Same\",activation=\"relu\"))\n",
    "model.add(MaxPool2D(pool_size=(2,2),strides=(2,2)))\n",
    "model.add(Dropout(0.25))\n",
    "\n",
    "model.add(Conv2D(filters=32,kernel_size=(4,4),padding=\"Same\",activation=\"relu\"))\n",
    "model.add(MaxPool2D(pool_size=(2,2),strides=(2,2)))\n",
    "model.add(Dropout(0.25))\n",
    "model.add(Flatten())\n",
    "model.add(Dense(512,activation=\"relu\"))\n",
    "model.add(Dropout(0.5))\n",
    "model.add(Dense(9,activation=\"softmax\"))\n",
    "\n",
    "# optimization\n",
    "optimizer=Adam(lr=0.001,beta_1=0.9,beta_2=0.999)\n",
    "\n",
    "# compiling the model\n",
    "model.compile(optimizer=optimizer,loss=\"binary_crossentropy\",metrics=[\"accuracy\"])\n",
    "\n",
    "epochs=10\n",
    "batch_size=36"
   ]
  },
  {
   "cell_type": "code",
   "execution_count": 14,
   "metadata": {},
   "outputs": [
    {
     "name": "stdout",
     "output_type": "stream",
     "text": [
      "Epoch 1/10\n",
      "122/122 [==============================] - 116s 955ms/step - loss: 0.3941 - acc: 0.8851 - val_loss: 0.3423 - val_acc: 0.8889\n",
      "Epoch 2/10\n",
      "122/122 [==============================] - 130s 1s/step - loss: 0.2897 - acc: 0.8969 - val_loss: 0.2538 - val_acc: 0.9006\n",
      "Epoch 3/10\n",
      "122/122 [==============================] - 113s 927ms/step - loss: 0.2445 - acc: 0.9015 - val_loss: 0.1915 - val_acc: 0.9120\n",
      "Epoch 4/10\n",
      "122/122 [==============================] - 115s 943ms/step - loss: 0.2081 - acc: 0.9157 - val_loss: 0.2018 - val_acc: 0.9053\n",
      "Epoch 5/10\n",
      "122/122 [==============================] - 116s 953ms/step - loss: 0.1865 - acc: 0.9187 - val_loss: 0.1447 - val_acc: 0.9414\n",
      "Epoch 6/10\n",
      "122/122 [==============================] - 116s 952ms/step - loss: 0.1449 - acc: 0.9385 - val_loss: 0.1172 - val_acc: 0.9488\n",
      "Epoch 7/10\n",
      "122/122 [==============================] - 118s 965ms/step - loss: 0.1138 - acc: 0.9520 - val_loss: 0.0961 - val_acc: 0.9554\n",
      "Epoch 8/10\n",
      "122/122 [==============================] - 122s 996ms/step - loss: 0.0889 - acc: 0.9610 - val_loss: 0.0530 - val_acc: 0.9753\n",
      "Epoch 9/10\n",
      "122/122 [==============================] - 118s 965ms/step - loss: 0.0684 - acc: 0.9708 - val_loss: 0.0541 - val_acc: 0.9772\n",
      "Epoch 10/10\n",
      "122/122 [==============================] - 115s 946ms/step - loss: 0.0560 - acc: 0.9765 - val_loss: 0.0331 - val_acc: 0.9808\n",
      "CPU times: user 1h 22min 2s, sys: 17min 6s, total: 1h 39min 8s\n",
      "Wall time: 19min 47s\n"
     ]
    }
   ],
   "source": [
    "%%time\n",
    "\n",
    "# Adding Variations of original photos to prevent overfiting\n",
    "\n",
    "datagen=ImageDataGenerator(featurewise_center=False, \n",
    "                           samplewise_center=False,  \n",
    "                           featurewise_std_normalization=False, \n",
    "                           samplewise_std_normalization=False,  \n",
    "                           zca_whitening=False,  \n",
    "                           rotation_range=0.5,    \n",
    "                           zoom_range=0.5,        \n",
    "                           width_shift_range=0.5, \n",
    "                           height_shift_range=0.5,\n",
    "                           horizontal_flip=False,  \n",
    "                           vertical_flip=False,\n",
    "                           )\n",
    "datagen.fit(x_train)\n",
    "\n",
    "#model fitting\n",
    "history=model.fit_generator(datagen.flow(x_train,y_train,batch_size=batch_size),epochs=epochs,\n",
    "                            validation_data=(x_val,y_val),steps_per_epoch=x_train.shape[0]//batch_size\n",
    "                           )"
   ]
  },
  {
   "cell_type": "code",
   "execution_count": 15,
   "metadata": {},
   "outputs": [
    {
     "name": "stdout",
     "output_type": "stream",
     "text": [
      "              precision    recall  f1-score   support\n",
      "\n",
      "           0       1.00      1.00      1.00       164\n",
      "           1       1.00      1.00      1.00       164\n",
      "           2       1.00      0.43      0.60       164\n",
      "           3       1.00      1.00      1.00       166\n",
      "           4       0.55      1.00      0.71       164\n",
      "           5       1.00      1.00      1.00       166\n",
      "           6       1.00      1.00      1.00       166\n",
      "           7       1.00      0.75      0.86       166\n",
      "           8       1.00      1.00      1.00       158\n",
      "\n",
      "   micro avg       0.91      0.91      0.91      1478\n",
      "   macro avg       0.95      0.91      0.91      1478\n",
      "weighted avg       0.95      0.91      0.91      1478\n",
      "\n"
     ]
    }
   ],
   "source": [
    "pred =  model.predict_classes(x_val)\n",
    "print(classification_report(Y_test_2, pred))"
   ]
  },
  {
   "cell_type": "code",
   "execution_count": 16,
   "metadata": {
    "scrolled": true
   },
   "outputs": [
    {
     "data": {
      "image/png": "[encoded data removed]",
      "text/plain": [
       "<Figure size 432x288 with 1 Axes>"
      ]
     },
     "metadata": {
      "needs_background": "light"
     },
     "output_type": "display_data"
    }
   ],
   "source": [
    "## Visualizing Model Accuracy\n",
    "\n",
    "plt.plot(history.history[\"val_acc\"],color=\"r\",label=\"val_acc\")\n",
    "plt.title(\"Accuracy Graph\")\n",
    "plt.xlabel(\"number of epochs\")\n",
    "plt.ylabel(\"accuracy\")\n",
    "plt.legend()\n",
    "plt.grid()\n",
    "plt.show()"
   ]
  },
  {
   "cell_type": "markdown",
   "metadata": {},
   "source": [
    "Accuracy generally increased as the number of epochs increased."
   ]
  },
  {
   "cell_type": "markdown",
   "metadata": {},
   "source": [
    "### 10 Epochs, Reduced Image Augmentation"
   ]
  },
  {
   "cell_type": "code",
   "execution_count": 17,
   "metadata": {},
   "outputs": [],
   "source": [
    "\n",
    "## Building the Model\n",
    "\n",
    "model=Sequential()\n",
    "model.add(Conv2D(filters=8,kernel_size=(5,5),padding=\"Same\",activation=\"relu\",input_shape=(224,224,3)))\n",
    "model.add(MaxPool2D(pool_size=(2,2)))\n",
    "model.add(Dropout(0.25))\n",
    "\n",
    "model.add(Conv2D(filters=16,kernel_size=(4,4),padding=\"Same\",activation=\"relu\"))\n",
    "model.add(MaxPool2D(pool_size=(2,2),strides=(2,2)))\n",
    "model.add(Dropout(0.25))\n",
    "\n",
    "model.add(Conv2D(filters=32,kernel_size=(4,4),padding=\"Same\",activation=\"relu\"))\n",
    "model.add(MaxPool2D(pool_size=(2,2),strides=(2,2)))\n",
    "model.add(Dropout(0.25))\n",
    "model.add(Flatten())\n",
    "model.add(Dense(512,activation=\"relu\"))\n",
    "model.add(Dropout(0.5))\n",
    "model.add(Dense(9,activation=\"softmax\"))\n",
    "\n",
    "# optimization\n",
    "optimizer=Adam(lr=0.001,beta_1=0.9,beta_2=0.999)\n",
    "\n",
    "# compiling the model\n",
    "model.compile(optimizer=optimizer,loss=\"binary_crossentropy\",metrics=[\"accuracy\"])\n",
    "\n",
    "epochs=10\n",
    "batch_size=36"
   ]
  },
  {
   "cell_type": "code",
   "execution_count": 18,
   "metadata": {},
   "outputs": [
    {
     "name": "stdout",
     "output_type": "stream",
     "text": [
      "Epoch 1/10\n",
      "122/122 [==============================] - 105s 860ms/step - loss: 0.2708 - acc: 0.9304 - val_loss: 0.0526 - val_acc: 0.9809\n",
      "Epoch 2/10\n",
      "122/122 [==============================] - 102s 832ms/step - loss: 0.0175 - acc: 0.9940 - val_loss: 0.0461 - val_acc: 0.9848\n",
      "Epoch 3/10\n",
      "122/122 [==============================] - 116s 947ms/step - loss: 0.0088 - acc: 0.9972 - val_loss: 0.0357 - val_acc: 0.9868\n",
      "Epoch 4/10\n",
      "122/122 [==============================] - 111s 912ms/step - loss: 0.0030 - acc: 0.9989 - val_loss: 0.0185 - val_acc: 0.9929\n",
      "Epoch 5/10\n",
      "122/122 [==============================] - 111s 909ms/step - loss: 0.0019 - acc: 0.9995 - val_loss: 0.0290 - val_acc: 0.9878\n",
      "Epoch 6/10\n",
      "122/122 [==============================] - 118s 965ms/step - loss: 0.0071 - acc: 0.9978 - val_loss: 0.0835 - val_acc: 0.9802\n",
      "Epoch 7/10\n",
      "122/122 [==============================] - 111s 911ms/step - loss: 0.0032 - acc: 0.9990 - val_loss: 0.0132 - val_acc: 0.9935\n",
      "Epoch 8/10\n",
      "122/122 [==============================] - 109s 896ms/step - loss: 7.7172e-04 - acc: 0.9997 - val_loss: 0.0048 - val_acc: 0.9985\n",
      "Epoch 9/10\n",
      "122/122 [==============================] - 110s 900ms/step - loss: 0.0011 - acc: 0.9996 - val_loss: 0.0130 - val_acc: 0.9947\n",
      "Epoch 10/10\n",
      "122/122 [==============================] - 110s 902ms/step - loss: 5.2728e-04 - acc: 0.9998 - val_loss: 0.0069 - val_acc: 0.9976\n",
      "CPU times: user 1h 20min 55s, sys: 16min 20s, total: 1h 37min 15s\n",
      "Wall time: 18min 28s\n"
     ]
    }
   ],
   "source": [
    "%%time\n",
    "\n",
    "# Adding Variations of Original photos to prevent overfiting\n",
    "\n",
    "datagen=ImageDataGenerator(featurewise_center=False, \n",
    "                           samplewise_center=False,  \n",
    "                           featurewise_std_normalization=False, \n",
    "                           samplewise_std_normalization=False,  \n",
    "                           zca_whitening=False,  \n",
    "                           rotation_range=0.01,    \n",
    "                           zoom_range=0.01,        \n",
    "                           width_shift_range=0.01, \n",
    "                           height_shift_range=0.01,\n",
    "                           horizontal_flip=False,  \n",
    "                           vertical_flip=False,\n",
    "                           )\n",
    "datagen.fit(x_train)\n",
    "\n",
    "# model fitting\n",
    "history=model.fit_generator(datagen.flow(x_train,y_train,batch_size=batch_size),epochs=epochs,\n",
    "                            validation_data=(x_val,y_val),steps_per_epoch=x_train.shape[0]//batch_size\n",
    "                           )"
   ]
  },
  {
   "cell_type": "code",
   "execution_count": 19,
   "metadata": {},
   "outputs": [
    {
     "name": "stdout",
     "output_type": "stream",
     "text": [
      "              precision    recall  f1-score   support\n",
      "\n",
      "           0       1.00      1.00      1.00       164\n",
      "           1       1.00      0.98      0.99       164\n",
      "           2       1.00      1.00      1.00       164\n",
      "           3       0.95      1.00      0.98       166\n",
      "           4       1.00      1.00      1.00       164\n",
      "           5       1.00      0.95      0.98       166\n",
      "           6       0.97      1.00      0.98       166\n",
      "           7       0.98      0.96      0.97       166\n",
      "           8       1.00      1.00      1.00       158\n",
      "\n",
      "   micro avg       0.99      0.99      0.99      1478\n",
      "   macro avg       0.99      0.99      0.99      1478\n",
      "weighted avg       0.99      0.99      0.99      1478\n",
      "\n"
     ]
    }
   ],
   "source": [
    "pred =  model.predict_classes(x_val)\n",
    "print(classification_report(Y_test_2, pred))"
   ]
  },
  {
   "cell_type": "code",
   "execution_count": 20,
   "metadata": {
    "scrolled": true
   },
   "outputs": [
    {
     "data": {
      "image/png": "[encoded data removed]",
      "text/plain": [
       "<Figure size 432x288 with 1 Axes>"
      ]
     },
     "metadata": {
      "needs_background": "light"
     },
     "output_type": "display_data"
    }
   ],
   "source": [
    "## Visualizing Model Accuracy\n",
    "\n",
    "plt.plot(history.history[\"val_acc\"],color=\"r\",label=\"val_acc\")\n",
    "plt.title(\"Accuracy Graph\")\n",
    "plt.xlabel(\"number of epochs\")\n",
    "plt.ylabel(\"accuracy\")\n",
    "plt.legend()\n",
    "plt.grid()\n",
    "plt.show()"
   ]
  },
  {
   "cell_type": "markdown",
   "metadata": {},
   "source": [
    "Reducing the image augmentation actually resulted in higher accuracy scores. The increased risk of overfitting may become more evident with larger datasets. However, this model is the most preferable for classifying the fruit because of the extremely high accuracy."
   ]
  },
  {
   "cell_type": "markdown",
   "metadata": {},
   "source": [
    "### 10 Epochs, Image Augmentation, Reduced Convolution"
   ]
  },
  {
   "cell_type": "code",
   "execution_count": 21,
   "metadata": {},
   "outputs": [],
   "source": [
    "\n",
    "## Building the Model\n",
    "\n",
    "model=Sequential()\n",
    "model.add(Conv2D(filters=8,kernel_size=(5,5),padding=\"Same\",activation=\"relu\",input_shape=(224,224,3)))\n",
    "model.add(MaxPool2D(pool_size=(2,2)))\n",
    "model.add(Dropout(0.25))\n",
    "\n",
    "model.add(Conv2D(filters=32,kernel_size=(4,4),padding=\"Same\",activation=\"relu\"))\n",
    "model.add(MaxPool2D(pool_size=(2,2),strides=(2,2)))\n",
    "model.add(Dropout(0.25))\n",
    "model.add(Flatten())\n",
    "model.add(Dense(512,activation=\"relu\"))\n",
    "model.add(Dropout(0.5))\n",
    "model.add(Dense(9,activation=\"softmax\"))\n",
    "\n",
    "# optimization\n",
    "optimizer=Adam(lr=0.001,beta_1=0.9,beta_2=0.999)\n",
    "\n",
    "# compiling the model\n",
    "model.compile(optimizer=optimizer,loss=\"binary_crossentropy\",metrics=[\"accuracy\"])\n",
    "\n",
    "epochs=10\n",
    "batch_size=36"
   ]
  },
  {
   "cell_type": "code",
   "execution_count": 22,
   "metadata": {},
   "outputs": [
    {
     "name": "stdout",
     "output_type": "stream",
     "text": [
      "Epoch 1/10\n",
      "122/122 [==============================] - 153s 1s/step - loss: 3.1425 - acc: 0.8029 - val_loss: 3.1622 - val_acc: 0.8027\n",
      "Epoch 2/10\n",
      "122/122 [==============================] - 150s 1s/step - loss: 3.1614 - acc: 0.8028 - val_loss: 3.1622 - val_acc: 0.8027\n",
      "Epoch 3/10\n",
      "122/122 [==============================] - 162s 1s/step - loss: 3.1631 - acc: 0.8027 - val_loss: 3.1622 - val_acc: 0.8027\n",
      "Epoch 4/10\n",
      "122/122 [==============================] - 207s 2s/step - loss: 3.1688 - acc: 0.8023 - val_loss: 3.1622 - val_acc: 0.8027\n",
      "Epoch 5/10\n",
      "122/122 [==============================] - 191s 2s/step - loss: 3.1623 - acc: 0.8027 - val_loss: 3.1622 - val_acc: 0.8027\n",
      "Epoch 6/10\n",
      "122/122 [==============================] - 183s 1s/step - loss: 3.1623 - acc: 0.8027 - val_loss: 3.1622 - val_acc: 0.8027\n",
      "Epoch 7/10\n",
      "122/122 [==============================] - 185s 2s/step - loss: 3.1639 - acc: 0.8026 - val_loss: 3.1622 - val_acc: 0.8027\n",
      "Epoch 8/10\n",
      "122/122 [==============================] - 185s 2s/step - loss: 3.1655 - acc: 0.8025 - val_loss: 3.1622 - val_acc: 0.8027\n",
      "Epoch 9/10\n",
      "122/122 [==============================] - 195s 2s/step - loss: 3.1713 - acc: 0.8022 - val_loss: 3.1622 - val_acc: 0.8027\n",
      "Epoch 10/10\n",
      "122/122 [==============================] - 187s 2s/step - loss: 3.1583 - acc: 0.8030 - val_loss: 3.1622 - val_acc: 0.8027\n",
      "CPU times: user 2h 5min 31s, sys: 43min 9s, total: 2h 48min 40s\n",
      "Wall time: 30min 7s\n"
     ]
    }
   ],
   "source": [
    "%%time\n",
    "\n",
    "# Adding Variations of Original photos to prevent overfiting\n",
    "\n",
    "datagen=ImageDataGenerator(featurewise_center=False, \n",
    "                           samplewise_center=False,  \n",
    "                           featurewise_std_normalization=False, \n",
    "                           samplewise_std_normalization=False,  \n",
    "                           zca_whitening=False,  \n",
    "                           rotation_range=0.5,    \n",
    "                           zoom_range=0.5,        \n",
    "                           width_shift_range=0.5, \n",
    "                           height_shift_range=0.5,\n",
    "                           horizontal_flip=False,  \n",
    "                           vertical_flip=False,\n",
    "                           )\n",
    "datagen.fit(x_train)\n",
    "\n",
    "# model fitting\n",
    "history=model.fit_generator(datagen.flow(x_train,y_train,batch_size=batch_size),epochs=epochs,\n",
    "                            validation_data=(x_val,y_val),steps_per_epoch=x_train.shape[0]//batch_size\n",
    "                           )"
   ]
  },
  {
   "cell_type": "code",
   "execution_count": 23,
   "metadata": {},
   "outputs": [
    {
     "name": "stdout",
     "output_type": "stream",
     "text": [
      "              precision    recall  f1-score   support\n",
      "\n",
      "           0       0.00      0.00      0.00       164\n",
      "           1       0.00      0.00      0.00       164\n",
      "           2       0.00      0.00      0.00       164\n",
      "           3       0.00      0.00      0.00       166\n",
      "           4       0.00      0.00      0.00       164\n",
      "           5       0.00      0.00      0.00       166\n",
      "           6       0.00      0.00      0.00       166\n",
      "           7       0.11      1.00      0.20       166\n",
      "           8       0.00      0.00      0.00       158\n",
      "\n",
      "   micro avg       0.11      0.11      0.11      1478\n",
      "   macro avg       0.01      0.11      0.02      1478\n",
      "weighted avg       0.01      0.11      0.02      1478\n",
      "\n"
     ]
    },
    {
     "name": "stderr",
     "output_type": "stream",
     "text": [
      "/usr/local/lib/python3.7/site-packages/sklearn/metrics/classification.py:1143: UndefinedMetricWarning: Precision and F-score are ill-defined and being set to 0.0 in labels with no predicted samples.\n",
      "  'precision', 'predicted', average, warn_for)\n",
      "/usr/local/lib/python3.7/site-packages/sklearn/metrics/classification.py:1143: UndefinedMetricWarning: Precision and F-score are ill-defined and being set to 0.0 in labels with no predicted samples.\n",
      "  'precision', 'predicted', average, warn_for)\n",
      "/usr/local/lib/python3.7/site-packages/sklearn/metrics/classification.py:1143: UndefinedMetricWarning: Precision and F-score are ill-defined and being set to 0.0 in labels with no predicted samples.\n",
      "  'precision', 'predicted', average, warn_for)\n"
     ]
    }
   ],
   "source": [
    "pred =  model.predict_classes(x_val)\n",
    "print(classification_report(Y_test_2, pred))"
   ]
  },
  {
   "cell_type": "code",
   "execution_count": 24,
   "metadata": {
    "scrolled": true
   },
   "outputs": [
    {
     "data": {
      "image/png": "[encoded data removed]",
      "text/plain": [
       "<Figure size 432x288 with 1 Axes>"
      ]
     },
     "metadata": {
      "needs_background": "light"
     },
     "output_type": "display_data"
    }
   ],
   "source": [
    "## Visualizing Model Accuracy\n",
    "\n",
    "plt.plot(history.history[\"val_acc\"],color=\"r\",label=\"val_acc\")\n",
    "plt.title(\"Accuracy Graph\")\n",
    "plt.xlabel(\"number of epochs\")\n",
    "plt.ylabel(\"accuracy\")\n",
    "plt.legend()\n",
    "plt.grid()\n",
    "plt.show()"
   ]
  },
  {
   "cell_type": "markdown",
   "metadata": {},
   "source": [
    "Computational complexity increased runtimes significantly. Accuracy also took a notable drop."
   ]
  },
  {
   "cell_type": "markdown",
   "metadata": {},
   "source": [
    "### 10 Epochs, Image Augmentation, Increased Batch Size"
   ]
  },
  {
   "cell_type": "code",
   "execution_count": 25,
   "metadata": {},
   "outputs": [],
   "source": [
    "## Building the Model\n",
    "\n",
    "model=Sequential()\n",
    "model.add(Conv2D(filters=8,kernel_size=(5,5),padding=\"Same\",activation=\"relu\",input_shape=(224,224,3)))\n",
    "model.add(MaxPool2D(pool_size=(2,2)))\n",
    "model.add(Dropout(0.25))\n",
    "\n",
    "model.add(Conv2D(filters=16,kernel_size=(4,4),padding=\"Same\",activation=\"relu\"))\n",
    "model.add(MaxPool2D(pool_size=(2,2),strides=(2,2)))\n",
    "model.add(Dropout(0.25))\n",
    "\n",
    "model.add(Conv2D(filters=32,kernel_size=(4,4),padding=\"Same\",activation=\"relu\"))\n",
    "model.add(MaxPool2D(pool_size=(2,2),strides=(2,2)))\n",
    "model.add(Dropout(0.25))\n",
    "model.add(Flatten())\n",
    "model.add(Dense(512,activation=\"relu\"))\n",
    "model.add(Dropout(0.5))\n",
    "model.add(Dense(9,activation=\"softmax\"))\n",
    "\n",
    "# optimization\n",
    "optimizer=Adam(lr=0.001,beta_1=0.9,beta_2=0.999)\n",
    "\n",
    "# compiling the model\n",
    "model.compile(optimizer=optimizer,loss=\"binary_crossentropy\",metrics=[\"accuracy\"])\n",
    "\n",
    "epochs=10\n",
    "batch_size=72"
   ]
  },
  {
   "cell_type": "code",
   "execution_count": 26,
   "metadata": {},
   "outputs": [
    {
     "name": "stdout",
     "output_type": "stream",
     "text": [
      "Epoch 1/10\n",
      "61/61 [==============================] - 103s 2s/step - loss: 0.5410 - acc: 0.8776 - val_loss: 0.3477 - val_acc: 0.8889\n",
      "Epoch 2/10\n",
      "61/61 [==============================] - 131s 2s/step - loss: 0.3075 - acc: 0.8913 - val_loss: 0.2402 - val_acc: 0.9014\n",
      "Epoch 3/10\n",
      "61/61 [==============================] - 123s 2s/step - loss: 0.2309 - acc: 0.9084 - val_loss: 0.2439 - val_acc: 0.8873\n",
      "Epoch 4/10\n",
      "61/61 [==============================] - 122s 2s/step - loss: 0.1626 - acc: 0.9301 - val_loss: 0.1062 - val_acc: 0.9592\n",
      "Epoch 5/10\n",
      "61/61 [==============================] - 112s 2s/step - loss: 0.1361 - acc: 0.9419 - val_loss: 0.0636 - val_acc: 0.9797\n",
      "Epoch 6/10\n",
      "61/61 [==============================] - 116s 2s/step - loss: 0.1096 - acc: 0.9542 - val_loss: 0.0657 - val_acc: 0.9796\n",
      "Epoch 7/10\n",
      "61/61 [==============================] - 115s 2s/step - loss: 0.0977 - acc: 0.9601 - val_loss: 0.0552 - val_acc: 0.9712\n",
      "Epoch 8/10\n",
      "61/61 [==============================] - 121s 2s/step - loss: 0.0895 - acc: 0.9627 - val_loss: 0.0459 - val_acc: 0.9832\n",
      "Epoch 9/10\n",
      "61/61 [==============================] - 123s 2s/step - loss: 0.0732 - acc: 0.9697 - val_loss: 0.0423 - val_acc: 0.9841\n",
      "Epoch 10/10\n",
      "61/61 [==============================] - 131s 2s/step - loss: 0.0721 - acc: 0.9699 - val_loss: 0.0397 - val_acc: 0.9886\n",
      "CPU times: user 1h 20min 33s, sys: 13min 25s, total: 1h 33min 58s\n",
      "Wall time: 20min\n"
     ]
    }
   ],
   "source": [
    "%%time\n",
    "\n",
    "# Adding Variations of Original photos to prevent overfiting\n",
    "\n",
    "datagen=ImageDataGenerator(featurewise_center=False, \n",
    "                           samplewise_center=False,  \n",
    "                           featurewise_std_normalization=False, \n",
    "                           samplewise_std_normalization=False,  \n",
    "                           zca_whitening=False,  \n",
    "                           rotation_range=0.5,    \n",
    "                           zoom_range=0.5,        \n",
    "                           width_shift_range=0.5, \n",
    "                           height_shift_range=0.5,\n",
    "                           horizontal_flip=False,  \n",
    "                           vertical_flip=False,\n",
    "                           )\n",
    "datagen.fit(x_train)\n",
    "\n",
    "# model fitting\n",
    "history=model.fit_generator(datagen.flow(x_train,y_train,batch_size=batch_size),epochs=epochs,\n",
    "                            validation_data=(x_val,y_val),steps_per_epoch=x_train.shape[0]//batch_size\n",
    "                           )"
   ]
  },
  {
   "cell_type": "code",
   "execution_count": 27,
   "metadata": {},
   "outputs": [
    {
     "name": "stdout",
     "output_type": "stream",
     "text": [
      "              precision    recall  f1-score   support\n",
      "\n",
      "           0       0.94      1.00      0.97       164\n",
      "           1       0.88      0.50      0.64       164\n",
      "           2       0.68      1.00      0.81       164\n",
      "           3       1.00      1.00      1.00       166\n",
      "           4       1.00      1.00      1.00       164\n",
      "           5       1.00      1.00      1.00       166\n",
      "           6       1.00      1.00      1.00       166\n",
      "           7       0.97      0.87      0.92       166\n",
      "           8       1.00      1.00      1.00       158\n",
      "\n",
      "   micro avg       0.93      0.93      0.93      1478\n",
      "   macro avg       0.94      0.93      0.93      1478\n",
      "weighted avg       0.94      0.93      0.93      1478\n",
      "\n"
     ]
    }
   ],
   "source": [
    "pred =  model.predict_classes(x_val)\n",
    "print(classification_report(Y_test_2, pred))"
   ]
  },
  {
   "cell_type": "code",
   "execution_count": 28,
   "metadata": {},
   "outputs": [
    {
     "data": {
      "image/png": "[encoded data removed]",
      "text/plain": [
       "<Figure size 432x288 with 1 Axes>"
      ]
     },
     "metadata": {
      "needs_background": "light"
     },
     "output_type": "display_data"
    }
   ],
   "source": [
    "## Visualizing Model Accuracy\n",
    "\n",
    "plt.plot(history.history[\"val_acc\"],color=\"r\",label=\"val_acc\")\n",
    "plt.title(\"Accuracy Graph\")\n",
    "plt.xlabel(\"number of epochs\")\n",
    "plt.ylabel(\"accuracy\")\n",
    "plt.legend()\n",
    "plt.grid()\n",
    "plt.show()"
   ]
  },
  {
   "cell_type": "markdown",
   "metadata": {},
   "source": [
    "Increasing the batch size significantly reduced runtime and computational complexity. There was a significant drop in accuracy, however."
   ]
  },
  {
   "cell_type": "markdown",
   "metadata": {},
   "source": [
    "### 10 Epochs With RNN"
   ]
  },
  {
   "cell_type": "code",
   "execution_count": 30,
   "metadata": {
    "scrolled": true
   },
   "outputs": [
    {
     "name": "stdout",
     "output_type": "stream",
     "text": [
      "x_train shape: (4399, 224, 224, 3)\n",
      "4399 train samples\n",
      "1478 test samples\n",
      "Train on 4399 samples, validate on 1478 samples\n",
      "Epoch 1/10\n",
      " 576/4399 [==>...........................] - ETA: 1:55 - loss: 2.2021 - acc: 0.0903"
     ]
    },
    {
     "ename": "KeyboardInterrupt",
     "evalue": "",
     "output_type": "error",
     "traceback": [
      "\u001b[0;31m---------------------------------------------------------------------------\u001b[0m",
      "\u001b[0;31mKeyboardInterrupt\u001b[0m                         Traceback (most recent call last)",
      "\u001b[0;32m<ipython-input-30-866c267ff4fb>\u001b[0m in \u001b[0;36m<module>\u001b[0;34m\u001b[0m\n\u001b[1;32m     39\u001b[0m           \u001b[0mepochs\u001b[0m\u001b[0;34m=\u001b[0m\u001b[0mepochs\u001b[0m\u001b[0;34m,\u001b[0m\u001b[0;34m\u001b[0m\u001b[0;34m\u001b[0m\u001b[0m\n\u001b[1;32m     40\u001b[0m           \u001b[0mverbose\u001b[0m\u001b[0;34m=\u001b[0m\u001b[0;36m1\u001b[0m\u001b[0;34m,\u001b[0m\u001b[0;34m\u001b[0m\u001b[0;34m\u001b[0m\u001b[0m\n\u001b[0;32m---> 41\u001b[0;31m           validation_data=(x_test, y_test))\n\u001b[0m\u001b[1;32m     42\u001b[0m \u001b[0;34m\u001b[0m\u001b[0m\n\u001b[1;32m     43\u001b[0m \u001b[0;31m# Evaluation.\u001b[0m\u001b[0;34m\u001b[0m\u001b[0;34m\u001b[0m\u001b[0;34m\u001b[0m\u001b[0m\n",
      "\u001b[0;32m/usr/local/lib/python3.7/site-packages/keras/engine/training.py\u001b[0m in \u001b[0;36mfit\u001b[0;34m(self, x, y, batch_size, epochs, verbose, callbacks, validation_split, validation_data, shuffle, class_weight, sample_weight, initial_epoch, steps_per_epoch, validation_steps, **kwargs)\u001b[0m\n\u001b[1;32m   1037\u001b[0m                                         \u001b[0minitial_epoch\u001b[0m\u001b[0;34m=\u001b[0m\u001b[0minitial_epoch\u001b[0m\u001b[0;34m,\u001b[0m\u001b[0;34m\u001b[0m\u001b[0;34m\u001b[0m\u001b[0m\n\u001b[1;32m   1038\u001b[0m                                         \u001b[0msteps_per_epoch\u001b[0m\u001b[0;34m=\u001b[0m\u001b[0msteps_per_epoch\u001b[0m\u001b[0;34m,\u001b[0m\u001b[0;34m\u001b[0m\u001b[0;34m\u001b[0m\u001b[0m\n\u001b[0;32m-> 1039\u001b[0;31m                                         validation_steps=validation_steps)\n\u001b[0m\u001b[1;32m   1040\u001b[0m \u001b[0;34m\u001b[0m\u001b[0m\n\u001b[1;32m   1041\u001b[0m     def evaluate(self, x=None, y=None,\n",
      "\u001b[0;32m/usr/local/lib/python3.7/site-packages/keras/engine/training_arrays.py\u001b[0m in \u001b[0;36mfit_loop\u001b[0;34m(model, f, ins, out_labels, batch_size, epochs, verbose, callbacks, val_f, val_ins, shuffle, callback_metrics, initial_epoch, steps_per_epoch, validation_steps)\u001b[0m\n\u001b[1;32m    197\u001b[0m                     \u001b[0mins_batch\u001b[0m\u001b[0;34m[\u001b[0m\u001b[0mi\u001b[0m\u001b[0;34m]\u001b[0m \u001b[0;34m=\u001b[0m \u001b[0mins_batch\u001b[0m\u001b[0;34m[\u001b[0m\u001b[0mi\u001b[0m\u001b[0;34m]\u001b[0m\u001b[0;34m.\u001b[0m\u001b[0mtoarray\u001b[0m\u001b[0;34m(\u001b[0m\u001b[0;34m)\u001b[0m\u001b[0;34m\u001b[0m\u001b[0;34m\u001b[0m\u001b[0m\n\u001b[1;32m    198\u001b[0m \u001b[0;34m\u001b[0m\u001b[0m\n\u001b[0;32m--> 199\u001b[0;31m                 \u001b[0mouts\u001b[0m \u001b[0;34m=\u001b[0m \u001b[0mf\u001b[0m\u001b[0;34m(\u001b[0m\u001b[0mins_batch\u001b[0m\u001b[0;34m)\u001b[0m\u001b[0;34m\u001b[0m\u001b[0;34m\u001b[0m\u001b[0m\n\u001b[0m\u001b[1;32m    200\u001b[0m                 \u001b[0mouts\u001b[0m \u001b[0;34m=\u001b[0m \u001b[0mto_list\u001b[0m\u001b[0;34m(\u001b[0m\u001b[0mouts\u001b[0m\u001b[0;34m)\u001b[0m\u001b[0;34m\u001b[0m\u001b[0;34m\u001b[0m\u001b[0m\n\u001b[1;32m    201\u001b[0m                 \u001b[0;32mfor\u001b[0m \u001b[0ml\u001b[0m\u001b[0;34m,\u001b[0m \u001b[0mo\u001b[0m \u001b[0;32min\u001b[0m \u001b[0mzip\u001b[0m\u001b[0;34m(\u001b[0m\u001b[0mout_labels\u001b[0m\u001b[0;34m,\u001b[0m \u001b[0mouts\u001b[0m\u001b[0;34m)\u001b[0m\u001b[0;34m:\u001b[0m\u001b[0;34m\u001b[0m\u001b[0;34m\u001b[0m\u001b[0m\n",
      "\u001b[0;32m/usr/local/lib/python3.7/site-packages/keras/backend/tensorflow_backend.py\u001b[0m in \u001b[0;36m__call__\u001b[0;34m(self, inputs)\u001b[0m\n\u001b[1;32m   2713\u001b[0m                 \u001b[0;32mreturn\u001b[0m \u001b[0mself\u001b[0m\u001b[0;34m.\u001b[0m\u001b[0m_legacy_call\u001b[0m\u001b[0;34m(\u001b[0m\u001b[0minputs\u001b[0m\u001b[0;34m)\u001b[0m\u001b[0;34m\u001b[0m\u001b[0;34m\u001b[0m\u001b[0m\n\u001b[1;32m   2714\u001b[0m \u001b[0;34m\u001b[0m\u001b[0m\n\u001b[0;32m-> 2715\u001b[0;31m             \u001b[0;32mreturn\u001b[0m \u001b[0mself\u001b[0m\u001b[0;34m.\u001b[0m\u001b[0m_call\u001b[0m\u001b[0;34m(\u001b[0m\u001b[0minputs\u001b[0m\u001b[0;34m)\u001b[0m\u001b[0;34m\u001b[0m\u001b[0;34m\u001b[0m\u001b[0m\n\u001b[0m\u001b[1;32m   2716\u001b[0m         \u001b[0;32melse\u001b[0m\u001b[0;34m:\u001b[0m\u001b[0;34m\u001b[0m\u001b[0;34m\u001b[0m\u001b[0m\n\u001b[1;32m   2717\u001b[0m             \u001b[0;32mif\u001b[0m \u001b[0mpy_any\u001b[0m\u001b[0;34m(\u001b[0m\u001b[0mis_tensor\u001b[0m\u001b[0;34m(\u001b[0m\u001b[0mx\u001b[0m\u001b[0;34m)\u001b[0m \u001b[0;32mfor\u001b[0m \u001b[0mx\u001b[0m \u001b[0;32min\u001b[0m \u001b[0minputs\u001b[0m\u001b[0;34m)\u001b[0m\u001b[0;34m:\u001b[0m\u001b[0;34m\u001b[0m\u001b[0;34m\u001b[0m\u001b[0m\n",
      "\u001b[0;32m/usr/local/lib/python3.7/site-packages/keras/backend/tensorflow_backend.py\u001b[0m in \u001b[0;36m_call\u001b[0;34m(self, inputs)\u001b[0m\n\u001b[1;32m   2673\u001b[0m             \u001b[0mfetched\u001b[0m \u001b[0;34m=\u001b[0m \u001b[0mself\u001b[0m\u001b[0;34m.\u001b[0m\u001b[0m_callable_fn\u001b[0m\u001b[0;34m(\u001b[0m\u001b[0;34m*\u001b[0m\u001b[0marray_vals\u001b[0m\u001b[0;34m,\u001b[0m \u001b[0mrun_metadata\u001b[0m\u001b[0;34m=\u001b[0m\u001b[0mself\u001b[0m\u001b[0;34m.\u001b[0m\u001b[0mrun_metadata\u001b[0m\u001b[0;34m)\u001b[0m\u001b[0;34m\u001b[0m\u001b[0;34m\u001b[0m\u001b[0m\n\u001b[1;32m   2674\u001b[0m         \u001b[0;32melse\u001b[0m\u001b[0;34m:\u001b[0m\u001b[0;34m\u001b[0m\u001b[0;34m\u001b[0m\u001b[0m\n\u001b[0;32m-> 2675\u001b[0;31m             \u001b[0mfetched\u001b[0m \u001b[0;34m=\u001b[0m \u001b[0mself\u001b[0m\u001b[0;34m.\u001b[0m\u001b[0m_callable_fn\u001b[0m\u001b[0;34m(\u001b[0m\u001b[0;34m*\u001b[0m\u001b[0marray_vals\u001b[0m\u001b[0;34m)\u001b[0m\u001b[0;34m\u001b[0m\u001b[0;34m\u001b[0m\u001b[0m\n\u001b[0m\u001b[1;32m   2676\u001b[0m         \u001b[0;32mreturn\u001b[0m \u001b[0mfetched\u001b[0m\u001b[0;34m[\u001b[0m\u001b[0;34m:\u001b[0m\u001b[0mlen\u001b[0m\u001b[0;34m(\u001b[0m\u001b[0mself\u001b[0m\u001b[0;34m.\u001b[0m\u001b[0moutputs\u001b[0m\u001b[0;34m)\u001b[0m\u001b[0;34m]\u001b[0m\u001b[0;34m\u001b[0m\u001b[0;34m\u001b[0m\u001b[0m\n\u001b[1;32m   2677\u001b[0m \u001b[0;34m\u001b[0m\u001b[0m\n",
      "\u001b[0;32m/usr/local/lib/python3.7/site-packages/tensorflow/python/client/session.py\u001b[0m in \u001b[0;36m__call__\u001b[0;34m(self, *args, **kwargs)\u001b[0m\n\u001b[1;32m   1456\u001b[0m         ret = tf_session.TF_SessionRunCallable(self._session._session,\n\u001b[1;32m   1457\u001b[0m                                                \u001b[0mself\u001b[0m\u001b[0;34m.\u001b[0m\u001b[0m_handle\u001b[0m\u001b[0;34m,\u001b[0m \u001b[0margs\u001b[0m\u001b[0;34m,\u001b[0m\u001b[0;34m\u001b[0m\u001b[0;34m\u001b[0m\u001b[0m\n\u001b[0;32m-> 1458\u001b[0;31m                                                run_metadata_ptr)\n\u001b[0m\u001b[1;32m   1459\u001b[0m         \u001b[0;32mif\u001b[0m \u001b[0mrun_metadata\u001b[0m\u001b[0;34m:\u001b[0m\u001b[0;34m\u001b[0m\u001b[0;34m\u001b[0m\u001b[0m\n\u001b[1;32m   1460\u001b[0m           \u001b[0mproto_data\u001b[0m \u001b[0;34m=\u001b[0m \u001b[0mtf_session\u001b[0m\u001b[0;34m.\u001b[0m\u001b[0mTF_GetBuffer\u001b[0m\u001b[0;34m(\u001b[0m\u001b[0mrun_metadata_ptr\u001b[0m\u001b[0;34m)\u001b[0m\u001b[0;34m\u001b[0m\u001b[0;34m\u001b[0m\u001b[0m\n",
      "\u001b[0;31mKeyboardInterrupt\u001b[0m: "
     ]
    }
   ],
   "source": [
    "\n",
    "# Training parameters.\n",
    "batch_size = 64\n",
    "num_classes = 9\n",
    "epochs = 10\n",
    "\n",
    "# Embedding dimensions.\n",
    "row_hidden = 8\n",
    "col_hidden = 8\n",
    "\n",
    "# Reshapes data to 4D for Hierarchical RNN.\n",
    "x_train = x_train.astype('float32')\n",
    "x_test = x_test.astype('float32')\n",
    "print('x_train shape:', x_train.shape)\n",
    "print(x_train.shape[0], 'train samples')\n",
    "print(x_test.shape[0], 'test samples')\n",
    "\n",
    "row, col, pixel = x_train.shape[1:]\n",
    "\n",
    "# 4D input.\n",
    "x = Input(shape=(row, col, pixel))\n",
    "\n",
    "# Encodes a row of pixels using TimeDistributed Wrapper.\n",
    "encoded_rows = TimeDistributed(LSTM(row_hidden))(x)\n",
    "\n",
    "# Encodes columns of encoded rows.\n",
    "encoded_columns = LSTM(col_hidden)(encoded_rows)\n",
    "\n",
    "# Final predictions and model.\n",
    "prediction = Dense(num_classes, activation='softmax')(encoded_columns)\n",
    "model = Model(x, prediction)\n",
    "model.compile(loss='categorical_crossentropy',\n",
    "              optimizer='rmsprop',\n",
    "              metrics=['accuracy'])\n",
    "\n",
    "# Training.\n",
    "model.fit(x_train, y_train,\n",
    "          batch_size=batch_size,\n",
    "          epochs=epochs,\n",
    "          verbose=1,\n",
    "          validation_data=(x_test, y_test))\n",
    "\n",
    "# Evaluation.\n",
    "scores = model.evaluate(x_test, y_test, verbose=1)\n",
    "print('Test loss:', scores[0])\n",
    "print('Test accuracy:', scores[1])"
   ]
  },
  {
   "cell_type": "code",
   "execution_count": null,
   "metadata": {},
   "outputs": [],
   "source": [
    "pred =  model.predict_classes(x_test)\n",
    "print(classification_report(Y_test_2, pred))"
   ]
  },
  {
   "cell_type": "code",
   "execution_count": null,
   "metadata": {},
   "outputs": [],
   "source": [
    "## Visualizing Model Accuracy\n",
    "\n",
    "plt.plot(model.history[\"val_acc\"],color=\"r\",label=\"val_acc\")\n",
    "plt.title(\"Accuracy Graph\")\n",
    "plt.xlabel(\"number of epochs\")\n",
    "plt.ylabel(\"accuracy\")\n",
    "plt.legend()\n",
    "plt.grid()\n",
    "plt.show()"
   ]
  }
 ],
 "metadata": {
  "kernelspec": {
   "display_name": "Python 3",
   "language": "python",
   "name": "python3"
  },
  "language_info": {
   "codemirror_mode": {
    "name": "ipython",
    "version": 3
   },
   "file_extension": ".py",
   "mimetype": "text/x-python",
   "name": "python",
   "nbconvert_exporter": "python",
   "pygments_lexer": "ipython3",
   "version": "3.7.3"
  }
 },
 "nbformat": 4,
 "nbformat_minor": 2
}
