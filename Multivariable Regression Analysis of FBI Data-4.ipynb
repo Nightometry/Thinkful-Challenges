{
 "cells": [
  {
   "cell_type": "code",
   "execution_count": 1,
   "metadata": {},
   "outputs": [],
   "source": [
    "## Import Packages \n",
    "\n",
    "import math\n",
    "import warnings\n",
    "\n",
    "from IPython.display import display\n",
    "from matplotlib import pyplot as plt\n",
    "import numpy as np\n",
    "import pandas as pd\n",
    "import seaborn as sns\n",
    "from sklearn import linear_model\n",
    "import statsmodels.formula.api as smf\n",
    "from matplotlib.mlab import PCA as mlabPCA\n",
    "from sklearn.preprocessing import StandardScaler\n",
    "from sklearn.decomposition import PCA \n",
    "\n",
    "# Display preferences.\n",
    "%matplotlib inline\n",
    "pd.options.display.float_format = '{:.3f}'.format\n",
    "\n",
    "# Suppress annoying harmless error.\n",
    "warnings.filterwarnings(\n",
    "    action=\"ignore\",\n",
    "    module=\"scipy\",\n",
    "    message=\"^internal gelsd\"\n",
    ")\n",
    "\n",
    "# Import Files\n",
    "df = pd.read_excel(\"table_8_offenses_known_to_law_enforcement_new_york_by_city_2013.xls\")"
   ]
  },
  {
   "cell_type": "code",
   "execution_count": 2,
   "metadata": {
    "scrolled": true
   },
   "outputs": [],
   "source": [
    "## View Raw File\n",
    "#pd.read_excel(\"table_8_offenses_known_to_law_enforcement_new_york_by_city_2013.xls\")\n",
    "#df.dtypes"
   ]
  },
  {
   "cell_type": "code",
   "execution_count": 3,
   "metadata": {
    "scrolled": true
   },
   "outputs": [],
   "source": [
    "### Clean Data\n",
    "\n",
    "## Create DataFrame Columns\n",
    "\n",
    "df.columns = ['city', 'population','violent_crime', \n",
    "                    'murder', 'rape_revised','rape_legacy', \n",
    "                    'robbery', 'aggravated_assault', 'property_crime', \n",
    "                    'burglary', 'larceny_theft', 'vehicle_theft', 'arson']\n",
    "\n",
    "## Drop extraneous rows and columns\n",
    "\n",
    "df = df.drop(df.index[:4])\n",
    "df = df.drop(df.index[-3:])\n",
    "df = df.drop('rape_revised', axis=1 )\n",
    "\n",
    "## Change Data Types of Columns\n",
    "\n",
    "df.loc[:,'city'] = df.loc[:,'city'].apply(str)\n",
    "df = df.apply(pd.to_numeric, errors='ignore')\n",
    "\n",
    "## Replace outliers with 95th percentile\n",
    "\n",
    "up_quantiles = df.quantile(0.95)\n",
    "outliers_high = (df > df.quantile(0.95))\n",
    "df[outliers_high] = np.nan\n",
    "df.fillna(up_quantiles, inplace=True)\n",
    "\n",
    "## Reset index\n",
    "\n",
    "df.reset_index(inplace=True)\n",
    "df.drop(\"index\",axis=1,inplace=True)"
   ]
  },
  {
   "cell_type": "code",
   "execution_count": 4,
   "metadata": {
    "scrolled": false
   },
   "outputs": [
    {
     "data": {
      "text/html": [
       "<div>\n",
       "<style scoped>\n",
       "    .dataframe tbody tr th:only-of-type {\n",
       "        vertical-align: middle;\n",
       "    }\n",
       "\n",
       "    .dataframe tbody tr th {\n",
       "        vertical-align: top;\n",
       "    }\n",
       "\n",
       "    .dataframe thead th {\n",
       "        text-align: right;\n",
       "    }\n",
       "</style>\n",
       "<table border=\"1\" class=\"dataframe\">\n",
       "  <thead>\n",
       "    <tr style=\"text-align: right;\">\n",
       "      <th></th>\n",
       "      <th>city</th>\n",
       "      <th>population</th>\n",
       "      <th>violent_crime</th>\n",
       "      <th>murder</th>\n",
       "      <th>rape_legacy</th>\n",
       "      <th>robbery</th>\n",
       "      <th>aggravated_assault</th>\n",
       "      <th>property_crime</th>\n",
       "      <th>burglary</th>\n",
       "      <th>larceny_theft</th>\n",
       "      <th>vehicle_theft</th>\n",
       "      <th>arson</th>\n",
       "    </tr>\n",
       "  </thead>\n",
       "  <tbody>\n",
       "    <tr>\n",
       "      <th>0</th>\n",
       "      <td>Adams Village</td>\n",
       "      <td>1861.000</td>\n",
       "      <td>0.000</td>\n",
       "      <td>0.000</td>\n",
       "      <td>0.000</td>\n",
       "      <td>0.000</td>\n",
       "      <td>0.000</td>\n",
       "      <td>12.000</td>\n",
       "      <td>2.000</td>\n",
       "      <td>10.000</td>\n",
       "      <td>0.000</td>\n",
       "      <td>0.000</td>\n",
       "    </tr>\n",
       "    <tr>\n",
       "      <th>1</th>\n",
       "      <td>Addison Town and Village</td>\n",
       "      <td>2577.000</td>\n",
       "      <td>3.000</td>\n",
       "      <td>0.000</td>\n",
       "      <td>0.000</td>\n",
       "      <td>0.000</td>\n",
       "      <td>3.000</td>\n",
       "      <td>24.000</td>\n",
       "      <td>3.000</td>\n",
       "      <td>20.000</td>\n",
       "      <td>1.000</td>\n",
       "      <td>0.000</td>\n",
       "    </tr>\n",
       "    <tr>\n",
       "      <th>2</th>\n",
       "      <td>Akron Village</td>\n",
       "      <td>2846.000</td>\n",
       "      <td>3.000</td>\n",
       "      <td>0.000</td>\n",
       "      <td>0.000</td>\n",
       "      <td>0.000</td>\n",
       "      <td>3.000</td>\n",
       "      <td>16.000</td>\n",
       "      <td>1.000</td>\n",
       "      <td>15.000</td>\n",
       "      <td>0.000</td>\n",
       "      <td>0.000</td>\n",
       "    </tr>\n",
       "    <tr>\n",
       "      <th>3</th>\n",
       "      <td>Albany</td>\n",
       "      <td>56732.650</td>\n",
       "      <td>155.900</td>\n",
       "      <td>1.650</td>\n",
       "      <td>10.300</td>\n",
       "      <td>56.850</td>\n",
       "      <td>88.300</td>\n",
       "      <td>1377.700</td>\n",
       "      <td>222.250</td>\n",
       "      <td>1178.500</td>\n",
       "      <td>50.300</td>\n",
       "      <td>4.700</td>\n",
       "    </tr>\n",
       "    <tr>\n",
       "      <th>4</th>\n",
       "      <td>Albion Village</td>\n",
       "      <td>6388.000</td>\n",
       "      <td>23.000</td>\n",
       "      <td>0.000</td>\n",
       "      <td>3.000</td>\n",
       "      <td>4.000</td>\n",
       "      <td>16.000</td>\n",
       "      <td>223.000</td>\n",
       "      <td>53.000</td>\n",
       "      <td>165.000</td>\n",
       "      <td>5.000</td>\n",
       "      <td>4.700</td>\n",
       "    </tr>\n",
       "    <tr>\n",
       "      <th>5</th>\n",
       "      <td>Alfred Village</td>\n",
       "      <td>4089.000</td>\n",
       "      <td>5.000</td>\n",
       "      <td>0.000</td>\n",
       "      <td>0.000</td>\n",
       "      <td>3.000</td>\n",
       "      <td>2.000</td>\n",
       "      <td>46.000</td>\n",
       "      <td>10.000</td>\n",
       "      <td>36.000</td>\n",
       "      <td>0.000</td>\n",
       "      <td>4.700</td>\n",
       "    </tr>\n",
       "    <tr>\n",
       "      <th>6</th>\n",
       "      <td>Allegany Village</td>\n",
       "      <td>1781.000</td>\n",
       "      <td>3.000</td>\n",
       "      <td>0.000</td>\n",
       "      <td>0.000</td>\n",
       "      <td>0.000</td>\n",
       "      <td>3.000</td>\n",
       "      <td>10.000</td>\n",
       "      <td>0.000</td>\n",
       "      <td>10.000</td>\n",
       "      <td>0.000</td>\n",
       "      <td>0.000</td>\n",
       "    </tr>\n",
       "    <tr>\n",
       "      <th>7</th>\n",
       "      <td>Amherst Town</td>\n",
       "      <td>56732.650</td>\n",
       "      <td>107.000</td>\n",
       "      <td>1.000</td>\n",
       "      <td>7.000</td>\n",
       "      <td>31.000</td>\n",
       "      <td>68.000</td>\n",
       "      <td>1377.700</td>\n",
       "      <td>204.000</td>\n",
       "      <td>1178.500</td>\n",
       "      <td>32.000</td>\n",
       "      <td>3.000</td>\n",
       "    </tr>\n",
       "    <tr>\n",
       "      <th>8</th>\n",
       "      <td>Amityville Village</td>\n",
       "      <td>9519.000</td>\n",
       "      <td>9.000</td>\n",
       "      <td>0.000</td>\n",
       "      <td>2.000</td>\n",
       "      <td>4.000</td>\n",
       "      <td>3.000</td>\n",
       "      <td>210.000</td>\n",
       "      <td>16.000</td>\n",
       "      <td>188.000</td>\n",
       "      <td>6.000</td>\n",
       "      <td>1.000</td>\n",
       "    </tr>\n",
       "    <tr>\n",
       "      <th>9</th>\n",
       "      <td>Amsterdam</td>\n",
       "      <td>18182.000</td>\n",
       "      <td>30.000</td>\n",
       "      <td>0.000</td>\n",
       "      <td>0.000</td>\n",
       "      <td>12.000</td>\n",
       "      <td>18.000</td>\n",
       "      <td>405.000</td>\n",
       "      <td>99.000</td>\n",
       "      <td>291.000</td>\n",
       "      <td>15.000</td>\n",
       "      <td>0.000</td>\n",
       "    </tr>\n",
       "  </tbody>\n",
       "</table>\n",
       "</div>"
      ],
      "text/plain": [
       "                       city  population  violent_crime  murder  rape_legacy  \\\n",
       "0             Adams Village    1861.000          0.000   0.000        0.000   \n",
       "1  Addison Town and Village    2577.000          3.000   0.000        0.000   \n",
       "2             Akron Village    2846.000          3.000   0.000        0.000   \n",
       "3                    Albany   56732.650        155.900   1.650       10.300   \n",
       "4            Albion Village    6388.000         23.000   0.000        3.000   \n",
       "5            Alfred Village    4089.000          5.000   0.000        0.000   \n",
       "6          Allegany Village    1781.000          3.000   0.000        0.000   \n",
       "7              Amherst Town   56732.650        107.000   1.000        7.000   \n",
       "8        Amityville Village    9519.000          9.000   0.000        2.000   \n",
       "9                 Amsterdam   18182.000         30.000   0.000        0.000   \n",
       "\n",
       "   robbery  aggravated_assault  property_crime  burglary  larceny_theft  \\\n",
       "0    0.000               0.000          12.000     2.000         10.000   \n",
       "1    0.000               3.000          24.000     3.000         20.000   \n",
       "2    0.000               3.000          16.000     1.000         15.000   \n",
       "3   56.850              88.300        1377.700   222.250       1178.500   \n",
       "4    4.000              16.000         223.000    53.000        165.000   \n",
       "5    3.000               2.000          46.000    10.000         36.000   \n",
       "6    0.000               3.000          10.000     0.000         10.000   \n",
       "7   31.000              68.000        1377.700   204.000       1178.500   \n",
       "8    4.000               3.000         210.000    16.000        188.000   \n",
       "9   12.000              18.000         405.000    99.000        291.000   \n",
       "\n",
       "   vehicle_theft  arson  \n",
       "0          0.000  0.000  \n",
       "1          1.000  0.000  \n",
       "2          0.000  0.000  \n",
       "3         50.300  4.700  \n",
       "4          5.000  4.700  \n",
       "5          0.000  4.700  \n",
       "6          0.000  0.000  \n",
       "7         32.000  3.000  \n",
       "8          6.000  1.000  \n",
       "9         15.000  0.000  "
      ]
     },
     "execution_count": 4,
     "metadata": {},
     "output_type": "execute_result"
    }
   ],
   "source": [
    "## View Cleaned Data\n",
    "df.head(10)\n",
    "#df.dtypes\n",
    "#df.describe()"
   ]
  },
  {
   "cell_type": "markdown",
   "metadata": {},
   "source": [
    "# Multivariable Regression Analysis of FBI Data #"
   ]
  },
  {
   "cell_type": "markdown",
   "metadata": {},
   "source": [
    "FBI crime data was used to create a model predicting property crimes."
   ]
  },
  {
   "cell_type": "markdown",
   "metadata": {},
   "source": [
    "## Analyzing the Data"
   ]
  },
  {
   "cell_type": "code",
   "execution_count": 5,
   "metadata": {},
   "outputs": [
    {
     "data": {
      "image/png": "[encoded data removed]",
      "text/plain": [
       "<Figure size 432x288 with 2 Axes>"
      ]
     },
     "metadata": {
      "needs_background": "light"
     },
     "output_type": "display_data"
    }
   ],
   "source": [
    "## Checking the Correlatedness of feature variables\n",
    "\n",
    "sns.heatmap(df.corr(), cmap='Reds')\n",
    "plt.show()"
   ]
  },
  {
   "cell_type": "markdown",
   "metadata": {},
   "source": [
    "## Preparing the Data for Regression"
   ]
  },
  {
   "cell_type": "markdown",
   "metadata": {},
   "source": [
    "### Principle Components Analysis"
   ]
  },
  {
   "cell_type": "code",
   "execution_count": 6,
   "metadata": {},
   "outputs": [],
   "source": [
    "## Take Data For PCA\n",
    "\n",
    "df_pca = df.loc[:, ['population', 'violent_crime', 'murder', 'rape_legacy',\n",
    "       'robbery', 'aggravated_assault', 'burglary',\n",
    "      'larceny_theft', 'vehicle_theft', 'arson'\n",
    "           ]].dropna()\n",
    "\n",
    "## Normalize the data \n",
    "\n",
    "X = StandardScaler().fit_transform(df_pca)"
   ]
  },
  {
   "cell_type": "code",
   "execution_count": 7,
   "metadata": {},
   "outputs": [],
   "source": [
    "## Perform PCA\n",
    "\n",
    "sklearn_pca = PCA(n_components=2)\n",
    "Y_sklearn = sklearn_pca.fit_transform(X)"
   ]
  },
  {
   "cell_type": "code",
   "execution_count": 8,
   "metadata": {},
   "outputs": [
    {
     "name": "stdout",
     "output_type": "stream",
     "text": [
      "The percentage of total variance in the dataset explained by each component from Sklearn PCA.\n",
      " [0.76538122 0.08902699]\n"
     ]
    }
   ],
   "source": [
    "## Evaluate PCA\n",
    "\n",
    "print(\n",
    "    'The percentage of total variance in the dataset explained by each',\n",
    "    'component from Sklearn PCA.\\n',\n",
    "    sklearn_pca.explained_variance_ratio_\n",
    ")"
   ]
  },
  {
   "cell_type": "code",
   "execution_count": 9,
   "metadata": {},
   "outputs": [],
   "source": [
    "## Turn PCA Result into Dataframe\n",
    "\n",
    "pca_df = pd.DataFrame(data=Y_sklearn\n",
    "             , columns = ['component_1', 'component_2'])"
   ]
  },
  {
   "cell_type": "code",
   "execution_count": 10,
   "metadata": {
    "scrolled": false
   },
   "outputs": [],
   "source": [
    "## pca_df"
   ]
  },
  {
   "cell_type": "code",
   "execution_count": 11,
   "metadata": {},
   "outputs": [],
   "source": [
    "## Store DataFrame For Regression\n",
    "\n",
    "df_for_regression = pd.concat([pca_df, df['property_crime']], axis = 1)"
   ]
  },
  {
   "cell_type": "code",
   "execution_count": 12,
   "metadata": {},
   "outputs": [
    {
     "data": {
      "text/html": [
       "<div>\n",
       "<style scoped>\n",
       "    .dataframe tbody tr th:only-of-type {\n",
       "        vertical-align: middle;\n",
       "    }\n",
       "\n",
       "    .dataframe tbody tr th {\n",
       "        vertical-align: top;\n",
       "    }\n",
       "\n",
       "    .dataframe thead th {\n",
       "        text-align: right;\n",
       "    }\n",
       "</style>\n",
       "<table border=\"1\" class=\"dataframe\">\n",
       "  <thead>\n",
       "    <tr style=\"text-align: right;\">\n",
       "      <th></th>\n",
       "      <th>component_1</th>\n",
       "      <th>component_2</th>\n",
       "      <th>property_crime</th>\n",
       "    </tr>\n",
       "  </thead>\n",
       "  <tbody>\n",
       "    <tr>\n",
       "      <th>0</th>\n",
       "      <td>-1.928</td>\n",
       "      <td>0.908</td>\n",
       "      <td>12.000</td>\n",
       "    </tr>\n",
       "    <tr>\n",
       "      <th>1</th>\n",
       "      <td>-1.797</td>\n",
       "      <td>0.928</td>\n",
       "      <td>24.000</td>\n",
       "    </tr>\n",
       "    <tr>\n",
       "      <th>2</th>\n",
       "      <td>-1.835</td>\n",
       "      <td>0.920</td>\n",
       "      <td>16.000</td>\n",
       "    </tr>\n",
       "    <tr>\n",
       "      <th>3</th>\n",
       "      <td>9.742</td>\n",
       "      <td>0.334</td>\n",
       "      <td>1377.700</td>\n",
       "    </tr>\n",
       "    <tr>\n",
       "      <th>4</th>\n",
       "      <td>-0.058</td>\n",
       "      <td>-0.991</td>\n",
       "      <td>223.000</td>\n",
       "    </tr>\n",
       "    <tr>\n",
       "      <th>5</th>\n",
       "      <td>-1.380</td>\n",
       "      <td>-1.137</td>\n",
       "      <td>46.000</td>\n",
       "    </tr>\n",
       "    <tr>\n",
       "      <th>6</th>\n",
       "      <td>-1.869</td>\n",
       "      <td>0.918</td>\n",
       "      <td>10.000</td>\n",
       "    </tr>\n",
       "    <tr>\n",
       "      <th>7</th>\n",
       "      <td>6.885</td>\n",
       "      <td>0.594</td>\n",
       "      <td>1377.700</td>\n",
       "    </tr>\n",
       "    <tr>\n",
       "      <th>8</th>\n",
       "      <td>-0.818</td>\n",
       "      <td>0.593</td>\n",
       "      <td>210.000</td>\n",
       "    </tr>\n",
       "    <tr>\n",
       "      <th>9</th>\n",
       "      <td>0.527</td>\n",
       "      <td>1.240</td>\n",
       "      <td>405.000</td>\n",
       "    </tr>\n",
       "    <tr>\n",
       "      <th>10</th>\n",
       "      <td>-1.865</td>\n",
       "      <td>0.916</td>\n",
       "      <td>39.000</td>\n",
       "    </tr>\n",
       "    <tr>\n",
       "      <th>11</th>\n",
       "      <td>-1.665</td>\n",
       "      <td>0.953</td>\n",
       "      <td>33.000</td>\n",
       "    </tr>\n",
       "    <tr>\n",
       "      <th>12</th>\n",
       "      <td>-1.974</td>\n",
       "      <td>0.905</td>\n",
       "      <td>2.000</td>\n",
       "    </tr>\n",
       "    <tr>\n",
       "      <th>13</th>\n",
       "      <td>-1.858</td>\n",
       "      <td>0.924</td>\n",
       "      <td>5.000</td>\n",
       "    </tr>\n",
       "    <tr>\n",
       "      <th>14</th>\n",
       "      <td>4.594</td>\n",
       "      <td>-0.498</td>\n",
       "      <td>859.000</td>\n",
       "    </tr>\n",
       "  </tbody>\n",
       "</table>\n",
       "</div>"
      ],
      "text/plain": [
       "    component_1  component_2  property_crime\n",
       "0        -1.928        0.908          12.000\n",
       "1        -1.797        0.928          24.000\n",
       "2        -1.835        0.920          16.000\n",
       "3         9.742        0.334        1377.700\n",
       "4        -0.058       -0.991         223.000\n",
       "5        -1.380       -1.137          46.000\n",
       "6        -1.869        0.918          10.000\n",
       "7         6.885        0.594        1377.700\n",
       "8        -0.818        0.593         210.000\n",
       "9         0.527        1.240         405.000\n",
       "10       -1.865        0.916          39.000\n",
       "11       -1.665        0.953          33.000\n",
       "12       -1.974        0.905           2.000\n",
       "13       -1.858        0.924           5.000\n",
       "14        4.594       -0.498         859.000"
      ]
     },
     "execution_count": 12,
     "metadata": {},
     "output_type": "execute_result"
    }
   ],
   "source": [
    "df_for_regression.head(15)"
   ]
  },
  {
   "cell_type": "markdown",
   "metadata": {},
   "source": [
    "## Creating the Regression Model"
   ]
  },
  {
   "cell_type": "code",
   "execution_count": 13,
   "metadata": {},
   "outputs": [],
   "source": [
    "## Store features and targets for regression\n",
    "\n",
    "x = df_for_regression[['component_1', 'component_2']]\n",
    "y = df_for_regression['property_crime']"
   ]
  },
  {
   "cell_type": "code",
   "execution_count": 20,
   "metadata": {},
   "outputs": [
    {
     "name": "stdout",
     "output_type": "stream",
     "text": [
      "Coefficients: \n",
      " [127.58167038  -0.68892023]\n",
      "\n",
      "Intercept: \n",
      " 279.5132183908045\n",
      "\n",
      "R-squared:\n",
      " 0.8905999243314461\n"
     ]
    },
    {
     "data": {
      "image/png": "[encoded data removed]",
      "text/plain": [
       "<Figure size 432x288 with 1 Axes>"
      ]
     },
     "metadata": {},
     "output_type": "display_data"
    }
   ],
   "source": [
    "# Instantiate our model.\n",
    "regr = linear_model.LinearRegression()\n",
    "\n",
    "# Fit our model to our data.\n",
    "regr.fit(x, y)\n",
    "\n",
    "# Display the attributes we calculated.\n",
    "print('Coefficients: \\n', regr.coef_)\n",
    "print('\\nIntercept: \\n', regr.intercept_)\n",
    "print('\\nR-squared:\\n', regr.score(x, y))\n",
    "\n",
    "# Plot outputs\n",
    "sns.set_style(\"white\")\n",
    "\n",
    "plt.scatter(pca_df['component_1'], y, color='blue', alpha=.7, label = 'component 1')\n",
    "plt.scatter(pca_df['component_2'], y, color='green', alpha=.7, label = 'component 2')\n",
    "plt.plot(x, regr.predict(x), color='black', linewidth=3, alpha=.7)\n",
    "plt.title('The Regression Model Plotted against the Components')\n",
    "plt.legend()\n",
    "plt.show()"
   ]
  },
  {
   "cell_type": "markdown",
   "metadata": {},
   "source": [
    "## Reflecting on the Modeling Process"
   ]
  },
  {
   "cell_type": "markdown",
   "metadata": {},
   "source": [
    "I originally planned to use features engineered in the last assignment for the model. However, after seeing that almost all of the variables were highly correlated, I opted to perform a principal component analysis on all of the original variables and use the resulting components for the model. I chose to use only the 2 most useful features since together they already accounted for 85% of the variance in the variables."
   ]
  },
  {
   "cell_type": "code",
   "execution_count": null,
   "metadata": {},
   "outputs": [],
   "source": []
  }
 ],
 "metadata": {
  "kernelspec": {
   "display_name": "Python 3",
   "language": "python",
   "name": "python3"
  },
  "language_info": {
   "codemirror_mode": {
    "name": "ipython",
    "version": 3
   },
   "file_extension": ".py",
   "mimetype": "text/x-python",
   "name": "python",
   "nbconvert_exporter": "python",
   "pygments_lexer": "ipython3",
   "version": "3.7.2"
  }
 },
 "nbformat": 4,
 "nbformat_minor": 2
}
