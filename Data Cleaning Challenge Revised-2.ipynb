{
 "cells": [
  {
   "cell_type": "code",
   "execution_count": 1,
   "metadata": {},
   "outputs": [],
   "source": [
    "## Import packages \n",
    "\n",
    "import pandas as pd\n",
    "import numpy as np\n",
    "import matplotlib.pyplot as plt\n",
    "import statistics\n",
    "import seaborn as sns\n",
    "%matplotlib inline\n",
    "\n",
    "## Load File\n",
    "\n",
    "df = pd.read_csv('https://raw.githubusercontent.com/borja876/Thinkful-DataScience-Borja/master/WELLCOME_APCspend2013_forThinkful.csv', encoding='latin1')"
   ]
  },
  {
   "cell_type": "code",
   "execution_count": 107,
   "metadata": {},
   "outputs": [],
   "source": [
    "## View DataFrame\n",
    "#df"
   ]
  },
  {
   "cell_type": "markdown",
   "metadata": {},
   "source": [
    "## Determine the five most common journals and the total articles for each"
   ]
  },
  {
   "cell_type": "code",
   "execution_count": 78,
   "metadata": {},
   "outputs": [
    {
     "name": "stdout",
     "output_type": "stream",
     "text": [
      "PLOS ONE                                                            210\n",
      "JOURNAL OF BIOLOGICAL CHEMISTRY                                      53\n",
      "NEUROIMAGE                                                           29\n",
      "PLOS GENETICS                                                        24\n",
      "PLOS PATHOGENS                                                       24\n",
      "NUCLEIC ACIDS RESEARCH                                               23\n",
      "PLOS NEGLECTED TROPICAL DISEASES                                     20\n",
      "PROCEEDINGS OF THE NATIONAL ACADEMY OF SCIENCES                      20\n",
      "HUMAN MOLECULAR GENETICS                                             19\n",
      "NATURE COMMUNICATIONS                                                19\n",
      "BMC PUBLIC HEALTH                                                    14\n",
      "BRAIN                                                                14\n",
      "MOVEMENT DISORDERS                                                   13\n",
      "JOURNAL OF NEUROSCIENCE                                              12\n",
      "DEVELOPMENTAL CELL                                                   12\n",
      "BIOCHEMICAL JOURNAL                                                  12\n",
      "JOURNAL OF GENERAL VIROLOGY                                          11\n",
      "CURRENT BIOLOGY                                                      11\n",
      "BMJ                                                                  10\n",
      "BMJ OPEN                                                              9\n",
      "CELL REPORTS                                                          9\n",
      "PLOS COMPUTATIONAL BIOLOGY                                            9\n",
      "NEURON                                                                9\n",
      "JOURNAL OF CLINICAL ENDOCRINOLOGY AND METABOLISM                      8\n",
      "JOURNAL OF PHYSIOLOGY                                                 8\n",
      "MALARIA JOURNAL                                                       8\n",
      "JOURNAL OF CELL SCIENCE                                               8\n",
      "HEPATOLOGY                                                            8\n",
      "DEVELOPMENT                                                           8\n",
      "MOLECULAR MICROBIOLOGY                                                8\n",
      "                                                                   ... \n",
      "THE VET. JOURNAL                                                      1\n",
      "ARTHRITIS RESEARCH AND THERAPY                                        1\n",
      "JOURNAL OF GERONTOLOGY SERIES A: MEDICAL SCIENCES                     1\n",
      "BIOCHEM JOURNAL                                                       1\n",
      "EUROPEAN RADIOLOGY                                                    1\n",
      "CHILD: CARE, HEALTH DEVELOPMENT                                       1\n",
      "JOURNAL OF MICROSCOPY                                                 1\n",
      "BIRTH DEFECTS RESEARCH PART A: CLINICAL AND MOLECULAR TERATOLOGY      1\n",
      "ASN NEURO                                                             1\n",
      "J IMMUNOL                                                             1\n",
      "NEUROINFORMATICS                                                      1\n",
      "RAPID COMMUNICATIONS IN MASS SPECTROMETRY                             1\n",
      "THE JOURNAL OF PHYSIOLOGY                                             1\n",
      "HEART                                                                 1\n",
      "PUBLIC SERVICE REVIEW                                                 1\n",
      "SEMINARS IN IMMUNOPATHOLOGY                                           1\n",
      "OSTEOARTHRITIS AND CARTILAGE                                          1\n",
      "JOURNAL OF VIROLOGY\\n                                                 1\n",
      "JOURNAL OF CELLULAR BIOCHEMISTRY                                      1\n",
      "HEALTH POLICY PLANNING                                                1\n",
      "LIPIDS IN HEALTH AND DISEASE                                          1\n",
      "CELL DEATH DIFFERENTIATION                                            1\n",
      "FRONTIERS                                                             1\n",
      "HUM RESOUR HEALTH                                                     1\n",
      "TRENDS IN MOLECULAR MEDICINE                                          1\n",
      "JOURNAL OF MECHANISMS OF AGEING AND DEVELOPMENT                       1\n",
      "EUROPEAN NEUROPSYCHOPHARMACOLOGY                                      1\n",
      "DEVELOPMENT DYNAMICS                                                  1\n",
      "BRAIN TOPOGRAPHY                                                      1\n",
      "FRONTIERS IN T CELL BIOLOGY                                           1\n",
      "Name: Journal title, Length: 915, dtype: int64\n"
     ]
    }
   ],
   "source": [
    "## View counts of each Journal Entry (as typed)\n",
    "print(df['Journal title'].value_counts())"
   ]
  },
  {
   "cell_type": "code",
   "execution_count": 108,
   "metadata": {},
   "outputs": [],
   "source": [
    "#df.sort_values('Journal title')"
   ]
  },
  {
   "cell_type": "code",
   "execution_count": 63,
   "metadata": {},
   "outputs": [],
   "source": [
    "## Converting whole DataFrame to uppercase in the process\n",
    "df= df.applymap(lambda x: x.upper() if type(x) == str else x )"
   ]
  },
  {
   "cell_type": "code",
   "execution_count": 74,
   "metadata": {},
   "outputs": [],
   "source": [
    "## Standardize Entries\n",
    "\n",
    "df['Journal title'] = df['Journal title'].replace(['PLOSONE', 'PLOS ONE', 'PLOS 1', 'PLOS'], 'PLOS ONE') \n",
    "df['Journal title'] = df['Journal title'].replace(['ACTA D', 'ACTA CRYSTALLOGRAPHICA SECTION D', 'ACTA CRYSTALLOGRAPHY D', 'ACTA CRYSTALLOGRAPHICA, SECTION D', 'ACTA CRYSTALLOGRAPHICA SECTION D, BIOLOGICAL CRYSTALLOGRAPHY', 'ACTA CRYSTALLOGRAPHICA SECTION D,  BIOLOGICAL CRYSTALLOGRAPHY'], 'ACTA CRYSTALLOGRAPHICA SECTION D: BIOLOGICAL CRYSTALLOGRAPHY') \n",
    "df['Journal title'] = df['Journal title'].replace(['AMERICAN JNL EPIDEMIOLOGY'], 'AMERICAN JOURNAL OF EPIDEMIOLOGY') \n",
    "df['Journal title'] = df['Journal title'].replace(['AMERICAN JOURNAL OF MEDICAL GENETICS PART A'], 'AMERICAN JOURNAL OF MEDICAL GENETICS')\n",
    "df['Journal title'] = df['Journal title'].replace(['ANTIMICROBIAL AGENTS AND CHEMOTHERAPY', 'ANTIMICROBIAL AGFENTS AND CHEMOTHERAPY'], 'ANTIMICROBIAL AGENTS & CHEMOTHERAPY') \n",
    "df['Journal title'] = df['Journal title'].replace(['ANGEWANDE CHEMIE', 'ANGEWANDTE CHEMIE INTERNATIONAL EDITION','ANGEW CHEMS INT ED' ], 'ANGEWANDTE CHEMIE')\n",
    "df['Journal title'] = df['Journal title'].replace(['BEHAVIOUR RESEARCH AND THERAPY'], 'BEHAVIOR RESEARCH & THERAPY')\n",
    "df['Journal title'] = df['Journal title'].replace(['VIROLOGY JOURNAL'], 'VIROLOGY')"
   ]
  },
  {
   "cell_type": "code",
   "execution_count": 80,
   "metadata": {},
   "outputs": [
    {
     "name": "stdout",
     "output_type": "stream",
     "text": [
      "PLOS ONE                                                            210\n",
      "JOURNAL OF BIOLOGICAL CHEMISTRY                                      53\n",
      "NEUROIMAGE                                                           29\n",
      "PLOS GENETICS                                                        24\n",
      "PLOS PATHOGENS                                                       24\n",
      "NUCLEIC ACIDS RESEARCH                                               23\n",
      "PLOS NEGLECTED TROPICAL DISEASES                                     20\n",
      "PROCEEDINGS OF THE NATIONAL ACADEMY OF SCIENCES                      20\n",
      "HUMAN MOLECULAR GENETICS                                             19\n",
      "NATURE COMMUNICATIONS                                                19\n",
      "BMC PUBLIC HEALTH                                                    14\n",
      "BRAIN                                                                14\n",
      "MOVEMENT DISORDERS                                                   13\n",
      "JOURNAL OF NEUROSCIENCE                                              12\n",
      "DEVELOPMENTAL CELL                                                   12\n",
      "BIOCHEMICAL JOURNAL                                                  12\n",
      "JOURNAL OF GENERAL VIROLOGY                                          11\n",
      "CURRENT BIOLOGY                                                      11\n",
      "BMJ                                                                  10\n",
      "BMJ OPEN                                                              9\n",
      "CELL REPORTS                                                          9\n",
      "PLOS COMPUTATIONAL BIOLOGY                                            9\n",
      "NEURON                                                                9\n",
      "JOURNAL OF CLINICAL ENDOCRINOLOGY AND METABOLISM                      8\n",
      "JOURNAL OF PHYSIOLOGY                                                 8\n",
      "MALARIA JOURNAL                                                       8\n",
      "JOURNAL OF CELL SCIENCE                                               8\n",
      "HEPATOLOGY                                                            8\n",
      "DEVELOPMENT                                                           8\n",
      "MOLECULAR MICROBIOLOGY                                                8\n",
      "                                                                   ... \n",
      "THE VET. JOURNAL                                                      1\n",
      "ARTHRITIS RESEARCH AND THERAPY                                        1\n",
      "JOURNAL OF GERONTOLOGY SERIES A: MEDICAL SCIENCES                     1\n",
      "BIOCHEM JOURNAL                                                       1\n",
      "EUROPEAN RADIOLOGY                                                    1\n",
      "CHILD: CARE, HEALTH DEVELOPMENT                                       1\n",
      "JOURNAL OF MICROSCOPY                                                 1\n",
      "BIRTH DEFECTS RESEARCH PART A: CLINICAL AND MOLECULAR TERATOLOGY      1\n",
      "ASN NEURO                                                             1\n",
      "J IMMUNOL                                                             1\n",
      "NEUROINFORMATICS                                                      1\n",
      "RAPID COMMUNICATIONS IN MASS SPECTROMETRY                             1\n",
      "THE JOURNAL OF PHYSIOLOGY                                             1\n",
      "HEART                                                                 1\n",
      "PUBLIC SERVICE REVIEW                                                 1\n",
      "SEMINARS IN IMMUNOPATHOLOGY                                           1\n",
      "OSTEOARTHRITIS AND CARTILAGE                                          1\n",
      "JOURNAL OF VIROLOGY\\n                                                 1\n",
      "JOURNAL OF CELLULAR BIOCHEMISTRY                                      1\n",
      "HEALTH POLICY PLANNING                                                1\n",
      "LIPIDS IN HEALTH AND DISEASE                                          1\n",
      "CELL DEATH DIFFERENTIATION                                            1\n",
      "FRONTIERS                                                             1\n",
      "HUM RESOUR HEALTH                                                     1\n",
      "TRENDS IN MOLECULAR MEDICINE                                          1\n",
      "JOURNAL OF MECHANISMS OF AGEING AND DEVELOPMENT                       1\n",
      "EUROPEAN NEUROPSYCHOPHARMACOLOGY                                      1\n",
      "DEVELOPMENT DYNAMICS                                                  1\n",
      "BRAIN TOPOGRAPHY                                                      1\n",
      "FRONTIERS IN T CELL BIOLOGY                                           1\n",
      "Name: Journal title, Length: 915, dtype: int64\n"
     ]
    }
   ],
   "source": [
    "## View final counts of each Journal Entry (as typed)\n",
    "print(df['Journal title'].value_counts())"
   ]
  },
  {
   "cell_type": "markdown",
   "metadata": {},
   "source": [
    "**The five most common jourals (and the respective number of articles) are: PLOS One (210), Journal of Biological Chemistry (53), Neuroimage (29), PLOS Pathogens (24), and PLOS Genetics (24).**"
   ]
  },
  {
   "cell_type": "markdown",
   "metadata": {},
   "source": [
    "## Next, calculate the mean, median, and standard deviation of the open-access cost per article for each journal"
   ]
  },
  {
   "cell_type": "code",
   "execution_count": 82,
   "metadata": {},
   "outputs": [],
   "source": [
    "### Cleaning Article Cost Entries "
   ]
  },
  {
   "cell_type": "code",
   "execution_count": 83,
   "metadata": {},
   "outputs": [],
   "source": [
    "## removed currency symbols from cost column\n",
    "\n",
    "## removed £\n",
    "df= df.apply(lambda x: x.str.replace('£', ''))\n",
    "\n",
    "## removed $\n",
    "df= df.apply(lambda x: x.str.replace('$', ''))"
   ]
  },
  {
   "cell_type": "code",
   "execution_count": 89,
   "metadata": {},
   "outputs": [],
   "source": [
    "## Replace 999999.00 value with mean\n",
    "\n",
    "df= df.apply(lambda x: x.str.replace('999999.00', '2015.04'))"
   ]
  },
  {
   "cell_type": "code",
   "execution_count": 98,
   "metadata": {},
   "outputs": [],
   "source": [
    "## Creating Separate DataFrames for each Journal Title\n",
    "\n",
    "plos_one_isolated=df.loc[lambda df: df['Journal title'] == 'PLOS ONE', :]\n",
    "\n",
    "jbc_isolated=df.loc[lambda df: df['Journal title'] == 'JOURNAL OF BIOLOGICAL CHEMISTRY', :]\n",
    "\n",
    "neuroimage_isolated=df.loc[lambda df: df['Journal title'] == 'NEUROIMAGE', :]\n",
    "\n",
    "plos_pathogens_isolated=df.loc[lambda df: df['Journal title'] == 'PLOS PATHOGENS', :]\n",
    "\n",
    "plos_genetics_isolated=df.loc[lambda df: df['Journal title'] == 'PLOS GENETICS', :]"
   ]
  },
  {
   "cell_type": "code",
   "execution_count": 99,
   "metadata": {},
   "outputs": [
    {
     "data": {
      "text/plain": [
       "count       210.000000\n",
       "mean       1891.382286\n",
       "std       13229.208992\n",
       "min         122.310000\n",
       "25%         853.320000\n",
       "50%         901.810000\n",
       "75%        1044.737500\n",
       "max      192645.000000\n",
       "Name: COST (£) charged to Wellcome (inc VAT when charged), dtype: float64"
      ]
     },
     "execution_count": 99,
     "metadata": {},
     "output_type": "execute_result"
    }
   ],
   "source": [
    "## Calculating Mean, Median, Standard deviation for PLOS One article Costs\n",
    "\n",
    "## Describe PLOS One costs\n",
    "plos_one_isolated['COST (£) charged to Wellcome (inc VAT when charged)'].apply(pd.to_numeric).describe()"
   ]
  },
  {
   "cell_type": "code",
   "execution_count": 100,
   "metadata": {},
   "outputs": [],
   "source": [
    "## Remove Extreme Costs \n",
    "\n",
    "r = plos_one_isolated['COST (£) charged to Wellcome (inc VAT when charged)'].apply(pd.to_numeric).quantile(0.99)\n",
    "\n",
    "plos_one_isolated_reduced = plos_one_isolated[plos_one_isolated['COST (£) charged to Wellcome (inc VAT when charged)'].apply(pd.to_numeric) < r]"
   ]
  },
  {
   "cell_type": "code",
   "execution_count": 101,
   "metadata": {},
   "outputs": [
    {
     "data": {
      "text/plain": [
       "count     201.000000\n",
       "mean      937.437612\n",
       "std       193.968371\n",
       "min       122.310000\n",
       "25%       852.430000\n",
       "50%       897.610000\n",
       "75%      1040.700000\n",
       "max      1785.360000\n",
       "Name: COST (£) charged to Wellcome (inc VAT when charged), dtype: float64"
      ]
     },
     "execution_count": 101,
     "metadata": {},
     "output_type": "execute_result"
    }
   ],
   "source": [
    "## Describe Article Costs\n",
    "\n",
    "plos_one_isolated_reduced['COST (£) charged to Wellcome (inc VAT when charged)'].apply(pd.to_numeric).describe()"
   ]
  },
  {
   "cell_type": "markdown",
   "metadata": {},
   "source": [
    "**PLOS One Article Cost Statistics <br>\n",
    "mean:      937.437612 <br>\n",
    "median:    897.610000 <br>\n",
    "std:       193.968371**"
   ]
  },
  {
   "cell_type": "code",
   "execution_count": 102,
   "metadata": {},
   "outputs": [
    {
     "data": {
      "text/plain": [
       "count      53.000000\n",
       "mean     1434.747925\n",
       "std       415.984485\n",
       "min       265.670000\n",
       "25%      1152.720000\n",
       "50%      1314.530000\n",
       "75%      1610.310000\n",
       "max      2501.070000\n",
       "Name: COST (£) charged to Wellcome (inc VAT when charged), dtype: float64"
      ]
     },
     "execution_count": 102,
     "metadata": {},
     "output_type": "execute_result"
    }
   ],
   "source": [
    "jbc_isolated['COST (£) charged to Wellcome (inc VAT when charged)'].apply(pd.to_numeric).describe()"
   ]
  },
  {
   "cell_type": "markdown",
   "metadata": {},
   "source": [
    "**Journal of Biological Chemistry Cost Statistics <br>\n",
    "mean:     1434.747925 <br>\n",
    "median:      1314.530000 <br>\n",
    "std:       415.984485**"
   ]
  },
  {
   "cell_type": "code",
   "execution_count": 103,
   "metadata": {},
   "outputs": [
    {
     "data": {
      "text/plain": [
       "count      29.000000\n",
       "mean     2215.168276\n",
       "std       266.653947\n",
       "min      1747.160000\n",
       "25%      2100.540000\n",
       "50%      2326.430000\n",
       "75%      2396.570000\n",
       "max      2503.340000\n",
       "Name: COST (£) charged to Wellcome (inc VAT when charged), dtype: float64"
      ]
     },
     "execution_count": 103,
     "metadata": {},
     "output_type": "execute_result"
    }
   ],
   "source": [
    "neuroimage_isolated['COST (£) charged to Wellcome (inc VAT when charged)'].apply(pd.to_numeric).describe()"
   ]
  },
  {
   "cell_type": "markdown",
   "metadata": {},
   "source": [
    "**Neuroimage Cost Statistics <br>\n",
    "mean:     2215.168276 <br>\n",
    "median:      2326.430000 <br>\n",
    "std:       266.653947**"
   ]
  },
  {
   "cell_type": "code",
   "execution_count": 105,
   "metadata": {},
   "outputs": [
    {
     "data": {
      "text/plain": [
       "count      24.000000\n",
       "mean     1609.714583\n",
       "std       198.700369\n",
       "min      1254.020000\n",
       "25%      1440.000000\n",
       "50%      1600.520000\n",
       "75%      1760.310000\n",
       "max      2015.040000\n",
       "Name: COST (£) charged to Wellcome (inc VAT when charged), dtype: float64"
      ]
     },
     "execution_count": 105,
     "metadata": {},
     "output_type": "execute_result"
    }
   ],
   "source": [
    "plos_pathogens_isolated['COST (£) charged to Wellcome (inc VAT when charged)'].apply(pd.to_numeric).describe()"
   ]
  },
  {
   "cell_type": "markdown",
   "metadata": {},
   "source": [
    "**PLOS Pathogens Cost Statistics <br>\n",
    "mean:     1609.714583 <br>\n",
    "median:      1600.520000 <br>\n",
    "std:       198.700369**"
   ]
  },
  {
   "cell_type": "code",
   "execution_count": 106,
   "metadata": {},
   "outputs": [
    {
     "data": {
      "text/plain": [
       "count      24.000000\n",
       "mean     1674.105000\n",
       "std       180.284357\n",
       "min      1394.050000\n",
       "25%      1484.862500\n",
       "50%      1718.390000\n",
       "75%      1778.225000\n",
       "max      2015.040000\n",
       "Name: COST (£) charged to Wellcome (inc VAT when charged), dtype: float64"
      ]
     },
     "execution_count": 106,
     "metadata": {},
     "output_type": "execute_result"
    }
   ],
   "source": [
    "plos_genetics_isolated['COST (£) charged to Wellcome (inc VAT when charged)'].apply(pd.to_numeric).describe()"
   ]
  },
  {
   "cell_type": "markdown",
   "metadata": {},
   "source": [
    "**PLOS Genetics Cost Statistics <br>\n",
    "mean:     1674.105000 <br>\n",
    "median:      1718.390000 <br>\n",
    "std:       180.284357**"
   ]
  },
  {
   "cell_type": "code",
   "execution_count": null,
   "metadata": {},
   "outputs": [],
   "source": []
  }
 ],
 "metadata": {
  "kernelspec": {
   "display_name": "Python 3",
   "language": "python",
   "name": "python3"
  },
  "language_info": {
   "codemirror_mode": {
    "name": "ipython",
    "version": 3
   },
   "file_extension": ".py",
   "mimetype": "text/x-python",
   "name": "python",
   "nbconvert_exporter": "python",
   "pygments_lexer": "ipython3",
   "version": "3.7.2"
  }
 },
 "nbformat": 4,
 "nbformat_minor": 2
}
